{
 "cells": [
  {
   "cell_type": "code",
   "execution_count": 1,
   "id": "9d310e5e",
   "metadata": {},
   "outputs": [],
   "source": [
    "import warnings\n",
    "warnings.filterwarnings('ignore')\n",
    "\n",
    "import seaborn as sns\n",
    "import matplotlib.pyplot as plt\n",
    "import numpy as np\n",
    "import pandas as pd"
   ]
  },
  {
   "cell_type": "markdown",
   "id": "230b396c",
   "metadata": {},
   "source": [
    "# READING AND UNDERSTANDIG DATA"
   ]
  },
  {
   "cell_type": "code",
   "execution_count": 2,
   "id": "a8f98e37",
   "metadata": {},
   "outputs": [
    {
     "data": {
      "text/html": [
       "<div>\n",
       "<style scoped>\n",
       "    .dataframe tbody tr th:only-of-type {\n",
       "        vertical-align: middle;\n",
       "    }\n",
       "\n",
       "    .dataframe tbody tr th {\n",
       "        vertical-align: top;\n",
       "    }\n",
       "\n",
       "    .dataframe thead th {\n",
       "        text-align: right;\n",
       "    }\n",
       "</style>\n",
       "<table border=\"1\" class=\"dataframe\">\n",
       "  <thead>\n",
       "    <tr style=\"text-align: right;\">\n",
       "      <th></th>\n",
       "      <th>Negara</th>\n",
       "      <th>Kematian_anak</th>\n",
       "      <th>Ekspor</th>\n",
       "      <th>Kesehatan</th>\n",
       "      <th>Impor</th>\n",
       "      <th>Pendapatan</th>\n",
       "      <th>Inflasi</th>\n",
       "      <th>Harapan_hidup</th>\n",
       "      <th>Jumlah_fertiliti</th>\n",
       "      <th>GDPperkapita</th>\n",
       "    </tr>\n",
       "  </thead>\n",
       "  <tbody>\n",
       "    <tr>\n",
       "      <th>0</th>\n",
       "      <td>Afghanistan</td>\n",
       "      <td>90.2</td>\n",
       "      <td>10.0</td>\n",
       "      <td>7.58</td>\n",
       "      <td>44.9</td>\n",
       "      <td>1610</td>\n",
       "      <td>9.44</td>\n",
       "      <td>56.2</td>\n",
       "      <td>5.82</td>\n",
       "      <td>553</td>\n",
       "    </tr>\n",
       "    <tr>\n",
       "      <th>1</th>\n",
       "      <td>Albania</td>\n",
       "      <td>16.6</td>\n",
       "      <td>28.0</td>\n",
       "      <td>6.55</td>\n",
       "      <td>48.6</td>\n",
       "      <td>9930</td>\n",
       "      <td>4.49</td>\n",
       "      <td>76.3</td>\n",
       "      <td>1.65</td>\n",
       "      <td>4090</td>\n",
       "    </tr>\n",
       "    <tr>\n",
       "      <th>2</th>\n",
       "      <td>Algeria</td>\n",
       "      <td>27.3</td>\n",
       "      <td>38.4</td>\n",
       "      <td>4.17</td>\n",
       "      <td>31.4</td>\n",
       "      <td>12900</td>\n",
       "      <td>16.10</td>\n",
       "      <td>76.5</td>\n",
       "      <td>2.89</td>\n",
       "      <td>4460</td>\n",
       "    </tr>\n",
       "    <tr>\n",
       "      <th>3</th>\n",
       "      <td>Angola</td>\n",
       "      <td>119.0</td>\n",
       "      <td>62.3</td>\n",
       "      <td>2.85</td>\n",
       "      <td>42.9</td>\n",
       "      <td>5900</td>\n",
       "      <td>22.40</td>\n",
       "      <td>60.1</td>\n",
       "      <td>6.16</td>\n",
       "      <td>3530</td>\n",
       "    </tr>\n",
       "    <tr>\n",
       "      <th>4</th>\n",
       "      <td>Antigua and Barbuda</td>\n",
       "      <td>10.3</td>\n",
       "      <td>45.5</td>\n",
       "      <td>6.03</td>\n",
       "      <td>58.9</td>\n",
       "      <td>19100</td>\n",
       "      <td>1.44</td>\n",
       "      <td>76.8</td>\n",
       "      <td>2.13</td>\n",
       "      <td>12200</td>\n",
       "    </tr>\n",
       "    <tr>\n",
       "      <th>...</th>\n",
       "      <td>...</td>\n",
       "      <td>...</td>\n",
       "      <td>...</td>\n",
       "      <td>...</td>\n",
       "      <td>...</td>\n",
       "      <td>...</td>\n",
       "      <td>...</td>\n",
       "      <td>...</td>\n",
       "      <td>...</td>\n",
       "      <td>...</td>\n",
       "    </tr>\n",
       "    <tr>\n",
       "      <th>162</th>\n",
       "      <td>Vanuatu</td>\n",
       "      <td>29.2</td>\n",
       "      <td>46.6</td>\n",
       "      <td>5.25</td>\n",
       "      <td>52.7</td>\n",
       "      <td>2950</td>\n",
       "      <td>2.62</td>\n",
       "      <td>63.0</td>\n",
       "      <td>3.50</td>\n",
       "      <td>2970</td>\n",
       "    </tr>\n",
       "    <tr>\n",
       "      <th>163</th>\n",
       "      <td>Venezuela</td>\n",
       "      <td>17.1</td>\n",
       "      <td>28.5</td>\n",
       "      <td>4.91</td>\n",
       "      <td>17.6</td>\n",
       "      <td>16500</td>\n",
       "      <td>45.90</td>\n",
       "      <td>75.4</td>\n",
       "      <td>2.47</td>\n",
       "      <td>13500</td>\n",
       "    </tr>\n",
       "    <tr>\n",
       "      <th>164</th>\n",
       "      <td>Vietnam</td>\n",
       "      <td>23.3</td>\n",
       "      <td>72.0</td>\n",
       "      <td>6.84</td>\n",
       "      <td>80.2</td>\n",
       "      <td>4490</td>\n",
       "      <td>12.10</td>\n",
       "      <td>73.1</td>\n",
       "      <td>1.95</td>\n",
       "      <td>1310</td>\n",
       "    </tr>\n",
       "    <tr>\n",
       "      <th>165</th>\n",
       "      <td>Yemen</td>\n",
       "      <td>56.3</td>\n",
       "      <td>30.0</td>\n",
       "      <td>5.18</td>\n",
       "      <td>34.4</td>\n",
       "      <td>4480</td>\n",
       "      <td>23.60</td>\n",
       "      <td>67.5</td>\n",
       "      <td>4.67</td>\n",
       "      <td>1310</td>\n",
       "    </tr>\n",
       "    <tr>\n",
       "      <th>166</th>\n",
       "      <td>Zambia</td>\n",
       "      <td>83.1</td>\n",
       "      <td>37.0</td>\n",
       "      <td>5.89</td>\n",
       "      <td>30.9</td>\n",
       "      <td>3280</td>\n",
       "      <td>14.00</td>\n",
       "      <td>52.0</td>\n",
       "      <td>5.40</td>\n",
       "      <td>1460</td>\n",
       "    </tr>\n",
       "  </tbody>\n",
       "</table>\n",
       "<p>167 rows × 10 columns</p>\n",
       "</div>"
      ],
      "text/plain": [
       "                  Negara  Kematian_anak  Ekspor  Kesehatan  Impor  Pendapatan  \\\n",
       "0            Afghanistan           90.2    10.0       7.58   44.9        1610   \n",
       "1                Albania           16.6    28.0       6.55   48.6        9930   \n",
       "2                Algeria           27.3    38.4       4.17   31.4       12900   \n",
       "3                 Angola          119.0    62.3       2.85   42.9        5900   \n",
       "4    Antigua and Barbuda           10.3    45.5       6.03   58.9       19100   \n",
       "..                   ...            ...     ...        ...    ...         ...   \n",
       "162              Vanuatu           29.2    46.6       5.25   52.7        2950   \n",
       "163            Venezuela           17.1    28.5       4.91   17.6       16500   \n",
       "164              Vietnam           23.3    72.0       6.84   80.2        4490   \n",
       "165                Yemen           56.3    30.0       5.18   34.4        4480   \n",
       "166               Zambia           83.1    37.0       5.89   30.9        3280   \n",
       "\n",
       "     Inflasi  Harapan_hidup  Jumlah_fertiliti  GDPperkapita  \n",
       "0       9.44           56.2              5.82           553  \n",
       "1       4.49           76.3              1.65          4090  \n",
       "2      16.10           76.5              2.89          4460  \n",
       "3      22.40           60.1              6.16          3530  \n",
       "4       1.44           76.8              2.13         12200  \n",
       "..       ...            ...               ...           ...  \n",
       "162     2.62           63.0              3.50          2970  \n",
       "163    45.90           75.4              2.47         13500  \n",
       "164    12.10           73.1              1.95          1310  \n",
       "165    23.60           67.5              4.67          1310  \n",
       "166    14.00           52.0              5.40          1460  \n",
       "\n",
       "[167 rows x 10 columns]"
      ]
     },
     "execution_count": 2,
     "metadata": {},
     "output_type": "execute_result"
    }
   ],
   "source": [
    "df = pd.read_csv('Data_Negara_HELP.csv')\n",
    "df.reset_index()\n",
    "df"
   ]
  },
  {
   "cell_type": "code",
   "execution_count": 3,
   "id": "5e0bfc87",
   "metadata": {},
   "outputs": [
    {
     "data": {
      "text/plain": [
       "(167, 10)"
      ]
     },
     "execution_count": 3,
     "metadata": {},
     "output_type": "execute_result"
    }
   ],
   "source": [
    "df.shape"
   ]
  },
  {
   "cell_type": "code",
   "execution_count": 4,
   "id": "dcabc8e8",
   "metadata": {},
   "outputs": [
    {
     "name": "stdout",
     "output_type": "stream",
     "text": [
      "<class 'pandas.core.frame.DataFrame'>\n",
      "RangeIndex: 167 entries, 0 to 166\n",
      "Data columns (total 10 columns):\n",
      " #   Column            Non-Null Count  Dtype  \n",
      "---  ------            --------------  -----  \n",
      " 0   Negara            167 non-null    object \n",
      " 1   Kematian_anak     167 non-null    float64\n",
      " 2   Ekspor            167 non-null    float64\n",
      " 3   Kesehatan         167 non-null    float64\n",
      " 4   Impor             167 non-null    float64\n",
      " 5   Pendapatan        167 non-null    int64  \n",
      " 6   Inflasi           167 non-null    float64\n",
      " 7   Harapan_hidup     167 non-null    float64\n",
      " 8   Jumlah_fertiliti  167 non-null    float64\n",
      " 9   GDPperkapita      167 non-null    int64  \n",
      "dtypes: float64(7), int64(2), object(1)\n",
      "memory usage: 12.5+ KB\n"
     ]
    }
   ],
   "source": [
    "df.info()"
   ]
  },
  {
   "cell_type": "code",
   "execution_count": 5,
   "id": "e753bc11",
   "metadata": {},
   "outputs": [
    {
     "data": {
      "text/html": [
       "<div>\n",
       "<style scoped>\n",
       "    .dataframe tbody tr th:only-of-type {\n",
       "        vertical-align: middle;\n",
       "    }\n",
       "\n",
       "    .dataframe tbody tr th {\n",
       "        vertical-align: top;\n",
       "    }\n",
       "\n",
       "    .dataframe thead th {\n",
       "        text-align: right;\n",
       "    }\n",
       "</style>\n",
       "<table border=\"1\" class=\"dataframe\">\n",
       "  <thead>\n",
       "    <tr style=\"text-align: right;\">\n",
       "      <th></th>\n",
       "      <th>Kematian_anak</th>\n",
       "      <th>Ekspor</th>\n",
       "      <th>Kesehatan</th>\n",
       "      <th>Impor</th>\n",
       "      <th>Pendapatan</th>\n",
       "      <th>Inflasi</th>\n",
       "      <th>Harapan_hidup</th>\n",
       "      <th>Jumlah_fertiliti</th>\n",
       "      <th>GDPperkapita</th>\n",
       "    </tr>\n",
       "  </thead>\n",
       "  <tbody>\n",
       "    <tr>\n",
       "      <th>count</th>\n",
       "      <td>167.000000</td>\n",
       "      <td>167.000000</td>\n",
       "      <td>167.000000</td>\n",
       "      <td>167.000000</td>\n",
       "      <td>167.000000</td>\n",
       "      <td>167.000000</td>\n",
       "      <td>167.000000</td>\n",
       "      <td>167.000000</td>\n",
       "      <td>167.000000</td>\n",
       "    </tr>\n",
       "    <tr>\n",
       "      <th>mean</th>\n",
       "      <td>38.270060</td>\n",
       "      <td>41.108976</td>\n",
       "      <td>6.815689</td>\n",
       "      <td>46.890215</td>\n",
       "      <td>17144.688623</td>\n",
       "      <td>7.781832</td>\n",
       "      <td>70.555689</td>\n",
       "      <td>2.947964</td>\n",
       "      <td>12964.155689</td>\n",
       "    </tr>\n",
       "    <tr>\n",
       "      <th>std</th>\n",
       "      <td>40.328931</td>\n",
       "      <td>27.412010</td>\n",
       "      <td>2.746837</td>\n",
       "      <td>24.209589</td>\n",
       "      <td>19278.067698</td>\n",
       "      <td>10.570704</td>\n",
       "      <td>8.893172</td>\n",
       "      <td>1.513848</td>\n",
       "      <td>18328.704809</td>\n",
       "    </tr>\n",
       "    <tr>\n",
       "      <th>min</th>\n",
       "      <td>2.600000</td>\n",
       "      <td>0.109000</td>\n",
       "      <td>1.810000</td>\n",
       "      <td>0.065900</td>\n",
       "      <td>609.000000</td>\n",
       "      <td>-4.210000</td>\n",
       "      <td>32.100000</td>\n",
       "      <td>1.150000</td>\n",
       "      <td>231.000000</td>\n",
       "    </tr>\n",
       "    <tr>\n",
       "      <th>25%</th>\n",
       "      <td>8.250000</td>\n",
       "      <td>23.800000</td>\n",
       "      <td>4.920000</td>\n",
       "      <td>30.200000</td>\n",
       "      <td>3355.000000</td>\n",
       "      <td>1.810000</td>\n",
       "      <td>65.300000</td>\n",
       "      <td>1.795000</td>\n",
       "      <td>1330.000000</td>\n",
       "    </tr>\n",
       "    <tr>\n",
       "      <th>50%</th>\n",
       "      <td>19.300000</td>\n",
       "      <td>35.000000</td>\n",
       "      <td>6.320000</td>\n",
       "      <td>43.300000</td>\n",
       "      <td>9960.000000</td>\n",
       "      <td>5.390000</td>\n",
       "      <td>73.100000</td>\n",
       "      <td>2.410000</td>\n",
       "      <td>4660.000000</td>\n",
       "    </tr>\n",
       "    <tr>\n",
       "      <th>75%</th>\n",
       "      <td>62.100000</td>\n",
       "      <td>51.350000</td>\n",
       "      <td>8.600000</td>\n",
       "      <td>58.750000</td>\n",
       "      <td>22800.000000</td>\n",
       "      <td>10.750000</td>\n",
       "      <td>76.800000</td>\n",
       "      <td>3.880000</td>\n",
       "      <td>14050.000000</td>\n",
       "    </tr>\n",
       "    <tr>\n",
       "      <th>max</th>\n",
       "      <td>208.000000</td>\n",
       "      <td>200.000000</td>\n",
       "      <td>17.900000</td>\n",
       "      <td>174.000000</td>\n",
       "      <td>125000.000000</td>\n",
       "      <td>104.000000</td>\n",
       "      <td>82.800000</td>\n",
       "      <td>7.490000</td>\n",
       "      <td>105000.000000</td>\n",
       "    </tr>\n",
       "  </tbody>\n",
       "</table>\n",
       "</div>"
      ],
      "text/plain": [
       "       Kematian_anak      Ekspor   Kesehatan       Impor     Pendapatan  \\\n",
       "count     167.000000  167.000000  167.000000  167.000000     167.000000   \n",
       "mean       38.270060   41.108976    6.815689   46.890215   17144.688623   \n",
       "std        40.328931   27.412010    2.746837   24.209589   19278.067698   \n",
       "min         2.600000    0.109000    1.810000    0.065900     609.000000   \n",
       "25%         8.250000   23.800000    4.920000   30.200000    3355.000000   \n",
       "50%        19.300000   35.000000    6.320000   43.300000    9960.000000   \n",
       "75%        62.100000   51.350000    8.600000   58.750000   22800.000000   \n",
       "max       208.000000  200.000000   17.900000  174.000000  125000.000000   \n",
       "\n",
       "          Inflasi  Harapan_hidup  Jumlah_fertiliti   GDPperkapita  \n",
       "count  167.000000     167.000000        167.000000     167.000000  \n",
       "mean     7.781832      70.555689          2.947964   12964.155689  \n",
       "std     10.570704       8.893172          1.513848   18328.704809  \n",
       "min     -4.210000      32.100000          1.150000     231.000000  \n",
       "25%      1.810000      65.300000          1.795000    1330.000000  \n",
       "50%      5.390000      73.100000          2.410000    4660.000000  \n",
       "75%     10.750000      76.800000          3.880000   14050.000000  \n",
       "max    104.000000      82.800000          7.490000  105000.000000  "
      ]
     },
     "execution_count": 5,
     "metadata": {},
     "output_type": "execute_result"
    }
   ],
   "source": [
    "df.describe()"
   ]
  },
  {
   "cell_type": "markdown",
   "id": "1b3e697a",
   "metadata": {},
   "source": [
    "# EXPLORATORY DATA ANALYSIS"
   ]
  },
  {
   "cell_type": "code",
   "execution_count": 6,
   "id": "b50ffeb9",
   "metadata": {},
   "outputs": [
    {
     "data": {
      "image/png": "[encoded data removed]",
      "text/plain": [
       "<Figure size 1080x648 with 9 Axes>"
      ]
     },
     "metadata": {
      "needs_background": "light"
     },
     "output_type": "display_data"
    }
   ],
   "source": [
    "#UNIVARIATE ANALYSIS\n",
    "plt.figure(figsize=(15,9))\n",
    "\n",
    "for i in enumerate(df.describe().columns):\n",
    "  plt.subplot(3,3, i[0]+1)\n",
    "  sns.distplot(df[i[1]])\n",
    "plt.show()"
   ]
  },
  {
   "cell_type": "code",
   "execution_count": 139,
   "id": "45d55f5c",
   "metadata": {},
   "outputs": [
    {
     "data": {
      "image/png": "[encoded data removed]",
      "text/plain": [
       "<Figure size 864x576 with 1 Axes>"
      ]
     },
     "metadata": {
      "needs_background": "light"
     },
     "output_type": "display_data"
    }
   ],
   "source": [
    "#BIVARIATE ANALYSIS \n",
    "plt.figure(figsize=(12,8))\n",
    "Kematian_anak = df[['Negara', 'Kematian_anak']].sort_values('Kematian_anak', ascending=False).head(5)\n",
    "ax = sns.barplot(x='Negara', y='Kematian_anak', data=Kematian_anak)\n",
    "ax.set(xlabel = 'Negara', ylabel='Angka Kematian Anak')\n",
    "ax.set_title('5 Negara Dengan Angka Kematian Anak Tertinggi')\n",
    "plt.show()"
   ]
  },
  {
   "cell_type": "code",
   "execution_count": 131,
   "id": "81adaf5d",
   "metadata": {},
   "outputs": [
    {
     "data": {
      "image/png": "[encoded data removed]",
      "text/plain": [
       "<Figure size 864x576 with 1 Axes>"
      ]
     },
     "metadata": {
      "needs_background": "light"
     },
     "output_type": "display_data"
    }
   ],
   "source": [
    "plt.figure(figsize=(12,8))\n",
    "Kematian_anak = df[['Negara', 'Kematian_anak']].sort_values('Kematian_anak', ascending=False).tail(5)\n",
    "ax = sns.barplot(x='Negara', y='Kematian_anak', data=Kematian_anak)\n",
    "ax.set(xlabel = 'Negara', ylabel='Angka Kematian Anak')\n",
    "ax.set_title('5 Negara Dengan Angka Kematian Anak Terendah')\n",
    "plt.show()"
   ]
  },
  {
   "cell_type": "code",
   "execution_count": 113,
   "id": "f591f2d4",
   "metadata": {},
   "outputs": [
    {
     "data": {
      "image/png": "[encoded data removed]",
      "text/plain": [
       "<Figure size 864x576 with 1 Axes>"
      ]
     },
     "metadata": {
      "needs_background": "light"
     },
     "output_type": "display_data"
    }
   ],
   "source": [
    "plt.figure(figsize=(12,8))\n",
    "Ekspor = df[['Negara', 'Ekspor']].sort_values('Ekspor', ascending=False).head(5)\n",
    "ax = sns.barplot(x='Negara', y='Ekspor', data=Ekspor)\n",
    "ax.set(xlabel = 'Negara', ylabel='Ekspor')\n",
    "ax.set_title('5 Negara Dengan Ekspor Tertinggi')\n",
    "plt.show()"
   ]
  },
  {
   "cell_type": "code",
   "execution_count": 130,
   "id": "9e16bf0f",
   "metadata": {},
   "outputs": [
    {
     "data": {
      "image/png": "[encoded data removed]",
      "text/plain": [
       "<Figure size 864x576 with 1 Axes>"
      ]
     },
     "metadata": {
      "needs_background": "light"
     },
     "output_type": "display_data"
    }
   ],
   "source": [
    "plt.figure(figsize=(12,8))\n",
    "Ekspor = df[['Negara', 'Ekspor']].sort_values('Ekspor', ascending=False).tail(5)\n",
    "ax = sns.barplot(x='Negara', y='Ekspor', data=Ekspor)\n",
    "ax.set(xlabel = 'Negara', ylabel='Ekspor')\n",
    "ax.set_title('5 Negara Dengan Ekspor Terendah')\n",
    "plt.show()"
   ]
  },
  {
   "cell_type": "code",
   "execution_count": 126,
   "id": "acc4bdb7",
   "metadata": {},
   "outputs": [
    {
     "data": {
      "image/png": "[encoded data removed]",
      "text/plain": [
       "<Figure size 864x576 with 1 Axes>"
      ]
     },
     "metadata": {
      "needs_background": "light"
     },
     "output_type": "display_data"
    }
   ],
   "source": [
    "plt.figure(figsize=(12,8))\n",
    "Kesehatan = df[['Negara', 'Kesehatan']].sort_values('Kesehatan', ascending=False).head(5)\n",
    "ax = sns.barplot(x='Negara', y='Kesehatan', data=Kesehatan)\n",
    "ax.set(xlabel = 'Negara', ylabel='Kesehatan')\n",
    "ax.set_title('5 Negara Dengan Angka Kesehatan Tertinggi')\n",
    "plt.show()"
   ]
  },
  {
   "cell_type": "code",
   "execution_count": 129,
   "id": "f1d9860b",
   "metadata": {},
   "outputs": [
    {
     "data": {
      "image/png": "[encoded data removed]",
      "text/plain": [
       "<Figure size 864x576 with 1 Axes>"
      ]
     },
     "metadata": {
      "needs_background": "light"
     },
     "output_type": "display_data"
    }
   ],
   "source": [
    "plt.figure(figsize=(12,8))\n",
    "Kesehatan = df[['Negara', 'Kesehatan']].sort_values('Kesehatan', ascending=False).tail(5)\n",
    "ax = sns.barplot(x='Negara', y='Kesehatan', data=Kesehatan)\n",
    "ax.set(xlabel = 'Negara', ylabel='Kesehatan')\n",
    "ax.set_title('5 Negara Dengan Angka Kesehatan Terendah')\n",
    "plt.show()"
   ]
  },
  {
   "cell_type": "code",
   "execution_count": 140,
   "id": "37228b62",
   "metadata": {},
   "outputs": [
    {
     "data": {
      "image/png": "[encoded data removed]",
      "text/plain": [
       "<Figure size 864x576 with 1 Axes>"
      ]
     },
     "metadata": {
      "needs_background": "light"
     },
     "output_type": "display_data"
    }
   ],
   "source": [
    "plt.figure(figsize=(12,8))\n",
    "Impor = df[['Negara', 'Impor']].sort_values('Impor', ascending=False).head(5)\n",
    "ax = sns.barplot(x='Negara', y='Impor', data=Impor)\n",
    "ax.set(xlabel = 'Negara', ylabel='Impor')\n",
    "ax.set_title('5 Negara Dengan Impor Tertinggi')\n",
    "plt.show()"
   ]
  },
  {
   "cell_type": "code",
   "execution_count": 144,
   "id": "d929684f",
   "metadata": {},
   "outputs": [
    {
     "data": {
      "image/png": "[encoded data removed]",
      "text/plain": [
       "<Figure size 864x576 with 1 Axes>"
      ]
     },
     "metadata": {
      "needs_background": "light"
     },
     "output_type": "display_data"
    }
   ],
   "source": [
    "plt.figure(figsize=(12,8))\n",
    "Impor = df[['Negara', 'Impor']].sort_values('Impor', ascending=False).tail(5)\n",
    "ax = sns.barplot(x='Negara', y='Impor', data=Impor)\n",
    "ax.set(xlabel = 'Negara', ylabel='Impor')\n",
    "ax.set_title('5 Negara Dengan Impor Terendah')\n",
    "plt.show()"
   ]
  },
  {
   "cell_type": "code",
   "execution_count": 147,
   "id": "196eb9a7",
   "metadata": {},
   "outputs": [
    {
     "data": {
      "image/png": "[encoded data removed]",
      "text/plain": [
       "<Figure size 864x576 with 1 Axes>"
      ]
     },
     "metadata": {
      "needs_background": "light"
     },
     "output_type": "display_data"
    }
   ],
   "source": [
    "plt.figure(figsize=(12,8))\n",
    "Pendapatan = df[['Negara', 'Pendapatan']].sort_values('Pendapatan', ascending=False).head(5)\n",
    "ax = sns.barplot(x='Negara', y='Pendapatan', data=Pendapatan)\n",
    "ax.set(xlabel = 'Negara', ylabel='Pendapatan')\n",
    "ax.set_title('5 Negara Dengan Pendapatan Tertinggi')\n",
    "plt.show()"
   ]
  },
  {
   "cell_type": "code",
   "execution_count": 149,
   "id": "0b3f7bbe",
   "metadata": {},
   "outputs": [
    {
     "data": {
      "image/png": "[encoded data removed]",
      "text/plain": [
       "<Figure size 864x576 with 1 Axes>"
      ]
     },
     "metadata": {
      "needs_background": "light"
     },
     "output_type": "display_data"
    }
   ],
   "source": [
    "plt.figure(figsize=(12,8))\n",
    "Pendapatan = df[['Negara', 'Pendapatan']].sort_values('Pendapatan', ascending=False).tail(5)\n",
    "ax = sns.barplot(x='Negara', y='Pendapatan', data=Pendapatan)\n",
    "ax.set(xlabel = 'Negara', ylabel='Pendapatan')\n",
    "ax.set_title('5 Negara Dengan Pendapatan Terendah')\n",
    "plt.show()"
   ]
  },
  {
   "cell_type": "code",
   "execution_count": 150,
   "id": "cbeafec4",
   "metadata": {},
   "outputs": [
    {
     "data": {
      "image/png": "[encoded data removed]",
      "text/plain": [
       "<Figure size 864x576 with 1 Axes>"
      ]
     },
     "metadata": {
      "needs_background": "light"
     },
     "output_type": "display_data"
    }
   ],
   "source": [
    "plt.figure(figsize=(12,8))\n",
    "Inflasi = df[['Negara', 'Inflasi']].sort_values('Inflasi', ascending=False).head(5)\n",
    "ax = sns.barplot(x='Negara', y='Inflasi', data=Inflasi)\n",
    "ax.set(xlabel = 'Negara', ylabel='Inflasi')\n",
    "ax.set_title('5 Negara Dengan Inflasi Tertinggi')\n",
    "plt.show()"
   ]
  },
  {
   "cell_type": "code",
   "execution_count": 151,
   "id": "4006aff3",
   "metadata": {},
   "outputs": [
    {
     "data": {
      "image/png": "[encoded data removed]",
      "text/plain": [
       "<Figure size 864x576 with 1 Axes>"
      ]
     },
     "metadata": {
      "needs_background": "light"
     },
     "output_type": "display_data"
    }
   ],
   "source": [
    "plt.figure(figsize=(12,8))\n",
    "Inflasi = df[['Negara', 'Inflasi']].sort_values('Inflasi', ascending=False).tail(5)\n",
    "ax = sns.barplot(x='Negara', y='Inflasi', data=Inflasi)\n",
    "ax.set(xlabel = 'Negara', ylabel='Inflasi')\n",
    "ax.set_title('5 Negara Dengan Inflasi Terendah')\n",
    "plt.show()"
   ]
  },
  {
   "cell_type": "code",
   "execution_count": 152,
   "id": "4bc1007e",
   "metadata": {},
   "outputs": [
    {
     "data": {
      "image/png": "[encoded data removed]",
      "text/plain": [
       "<Figure size 864x576 with 1 Axes>"
      ]
     },
     "metadata": {
      "needs_background": "light"
     },
     "output_type": "display_data"
    }
   ],
   "source": [
    "plt.figure(figsize=(12,8))\n",
    "Harapan_hidup = df[['Negara', 'Harapan_hidup']].sort_values('Harapan_hidup', ascending=False).head(5)\n",
    "ax = sns.barplot(x='Negara', y='Harapan_hidup', data=Harapan_hidup)\n",
    "ax.set(xlabel = 'Negara', ylabel='Harapan_hidup')\n",
    "ax.set_title('5 Negara Dengan Harapan Hidup Tertinggi')\n",
    "plt.show()"
   ]
  },
  {
   "cell_type": "code",
   "execution_count": 153,
   "id": "e0f3fdea",
   "metadata": {},
   "outputs": [
    {
     "data": {
      "image/png": "[encoded data removed]",
      "text/plain": [
       "<Figure size 864x576 with 1 Axes>"
      ]
     },
     "metadata": {
      "needs_background": "light"
     },
     "output_type": "display_data"
    }
   ],
   "source": [
    "plt.figure(figsize=(12,8))\n",
    "Harapan_hidup = df[['Negara', 'Harapan_hidup']].sort_values('Harapan_hidup', ascending=False).tail(5)\n",
    "ax = sns.barplot(x='Negara', y='Harapan_hidup', data=Harapan_hidup)\n",
    "ax.set(xlabel = 'Negara', ylabel='Harapan_hidup')\n",
    "ax.set_title('5 Negara Dengan Harapan Hidup Terendah')\n",
    "plt.show()"
   ]
  },
  {
   "cell_type": "code",
   "execution_count": 154,
   "id": "b0fdf3f3",
   "metadata": {},
   "outputs": [
    {
     "data": {
      "image/png": "[encoded data removed]",
      "text/plain": [
       "<Figure size 864x576 with 1 Axes>"
      ]
     },
     "metadata": {
      "needs_background": "light"
     },
     "output_type": "display_data"
    }
   ],
   "source": [
    "plt.figure(figsize=(12,8))\n",
    "Jumlah_fertiliti = df[['Negara', 'Jumlah_fertiliti']].sort_values('Jumlah_fertiliti', ascending=False).head(5)\n",
    "ax = sns.barplot(x='Negara', y='Jumlah_fertiliti', data=Jumlah_fertiliti)\n",
    "ax.set(xlabel = 'Negara', ylabel='Jumlah_fertiliti')\n",
    "ax.set_title('5 Negara Dengan Jumlah Fertiliti Tertinggi')\n",
    "plt.show()"
   ]
  },
  {
   "cell_type": "code",
   "execution_count": 155,
   "id": "76810f64",
   "metadata": {},
   "outputs": [
    {
     "data": {
      "image/png": "[encoded data removed]",
      "text/plain": [
       "<Figure size 864x576 with 1 Axes>"
      ]
     },
     "metadata": {
      "needs_background": "light"
     },
     "output_type": "display_data"
    }
   ],
   "source": [
    "plt.figure(figsize=(12,8))\n",
    "Jumlah_fertiliti = df[['Negara', 'Jumlah_fertiliti']].sort_values('Jumlah_fertiliti', ascending=False).tail(5)\n",
    "ax = sns.barplot(x='Negara', y='Jumlah_fertiliti', data=Jumlah_fertiliti)\n",
    "ax.set(xlabel = 'Negara', ylabel='Jumlah_fertiliti')\n",
    "ax.set_title('5 Negara Dengan Jumlah Fertiliti Terendah')\n",
    "plt.show()"
   ]
  },
  {
   "cell_type": "code",
   "execution_count": 156,
   "id": "c522e6e9",
   "metadata": {},
   "outputs": [
    {
     "data": {
      "image/png": "[encoded data removed]",
      "text/plain": [
       "<Figure size 864x576 with 1 Axes>"
      ]
     },
     "metadata": {
      "needs_background": "light"
     },
     "output_type": "display_data"
    }
   ],
   "source": [
    "plt.figure(figsize=(12,8))\n",
    "GDPperkapita = df[['Negara', 'GDPperkapita']].sort_values('GDPperkapita', ascending=False).head(5)\n",
    "ax = sns.barplot(x='Negara', y='GDPperkapita', data=GDPperkapita)\n",
    "ax.set(xlabel = 'Negara', ylabel='GDPperkapita')\n",
    "ax.set_title('5 Negara Dengan Jumlah GDPperkapita Tertinggi')\n",
    "plt.show()"
   ]
  },
  {
   "cell_type": "code",
   "execution_count": 157,
   "id": "6aaccf85",
   "metadata": {},
   "outputs": [
    {
     "data": {
      "image/png": "[encoded data removed]",
      "text/plain": [
       "<Figure size 864x576 with 1 Axes>"
      ]
     },
     "metadata": {
      "needs_background": "light"
     },
     "output_type": "display_data"
    }
   ],
   "source": [
    "plt.figure(figsize=(12,8))\n",
    "GDPperkapita = df[['Negara', 'GDPperkapita']].sort_values('GDPperkapita', ascending=False).tail(5)\n",
    "ax = sns.barplot(x='Negara', y='GDPperkapita', data=GDPperkapita)\n",
    "ax.set(xlabel = 'Negara', ylabel='GDPperkapita')\n",
    "ax.set_title('5 Negara Dengan Jumlah GDPperkapita Terendah')\n",
    "plt.show()"
   ]
  },
  {
   "cell_type": "markdown",
   "id": "eff17b25",
   "metadata": {},
   "source": [
    "Dari hasil plotting grafik diatas menunjukan bahwa untuk setiap negara yang memiliki angka harapan hidup tinggi, GDP perkapita, pendapatan, impor, dan ekspor yang tinggi merupakan negara maju, jika sebaliknya maka negara tersebut merupakan negara berkembang. Sedangkan untuk setiap negara yang memiliki angka kematian anak, jumlah fertiliti, dan inflasi yang tinggi merupakan negara berkembang, dan juga sebaliknya maka negara tersebut merupakan negara maju."
   ]
  },
  {
   "cell_type": "code",
   "execution_count": 158,
   "id": "34bf8565",
   "metadata": {},
   "outputs": [
    {
     "data": {
      "image/png": "[encoded data removed]",
      "text/plain": [
       "<Figure size 864x576 with 2 Axes>"
      ]
     },
     "metadata": {
      "needs_background": "light"
     },
     "output_type": "display_data"
    }
   ],
   "source": [
    "#MULTIVARIATE ANALYSIS\n",
    "plt.figure(figsize=(12,8))\n",
    "sns.heatmap(df.corr(), annot=True, fmt='.2g');"
   ]
  },
  {
   "cell_type": "markdown",
   "id": "bb857bcc",
   "metadata": {},
   "source": [
    "# PREPROCESSING DATA"
   ]
  },
  {
   "cell_type": "code",
   "execution_count": 72,
   "id": "74e6de19",
   "metadata": {},
   "outputs": [
    {
     "data": {
      "text/plain": [
       "Negara              0\n",
       "Kematian_anak       0\n",
       "Ekspor              0\n",
       "Kesehatan           0\n",
       "Impor               0\n",
       "Pendapatan          0\n",
       "Inflasi             0\n",
       "Harapan_hidup       0\n",
       "Jumlah_fertiliti    0\n",
       "GDPperkapita        0\n",
       "dtype: int64"
      ]
     },
     "execution_count": 72,
     "metadata": {},
     "output_type": "execute_result"
    }
   ],
   "source": [
    "df.isnull().sum()"
   ]
  },
  {
   "cell_type": "code",
   "execution_count": 165,
   "id": "0c2c919c",
   "metadata": {},
   "outputs": [
    {
     "data": {
      "text/plain": [
       "<AxesSubplot:xlabel='Kematian_anak'>"
      ]
     },
     "execution_count": 165,
     "metadata": {},
     "output_type": "execute_result"
    },
    {
     "data": {
      "image/png": "[encoded data removed]",
      "text/plain": [
       "<Figure size 432x288 with 1 Axes>"
      ]
     },
     "metadata": {
      "needs_background": "light"
     },
     "output_type": "display_data"
    }
   ],
   "source": [
    "#HANDLING OUTLIER\n",
    "sns.boxplot('Kematian_anak', data=df)"
   ]
  },
  {
   "cell_type": "code",
   "execution_count": 166,
   "id": "0701bb49",
   "metadata": {},
   "outputs": [
    {
     "data": {
      "text/plain": [
       "<AxesSubplot:xlabel='Ekspor'>"
      ]
     },
     "execution_count": 166,
     "metadata": {},
     "output_type": "execute_result"
    },
    {
     "data": {
      "image/png": "[encoded data removed]",
      "text/plain": [
       "<Figure size 432x288 with 1 Axes>"
      ]
     },
     "metadata": {
      "needs_background": "light"
     },
     "output_type": "display_data"
    }
   ],
   "source": [
    "sns.boxplot('Ekspor', data=df)"
   ]
  },
  {
   "cell_type": "code",
   "execution_count": 167,
   "id": "7c6a5b87",
   "metadata": {},
   "outputs": [
    {
     "data": {
      "text/plain": [
       "<AxesSubplot:xlabel='Kesehatan'>"
      ]
     },
     "execution_count": 167,
     "metadata": {},
     "output_type": "execute_result"
    },
    {
     "data": {
      "image/png": "[encoded data removed]",
      "text/plain": [
       "<Figure size 432x288 with 1 Axes>"
      ]
     },
     "metadata": {
      "needs_background": "light"
     },
     "output_type": "display_data"
    }
   ],
   "source": [
    "sns.boxplot('Kesehatan', data=df)"
   ]
  },
  {
   "cell_type": "code",
   "execution_count": 168,
   "id": "0dc6b3b0",
   "metadata": {},
   "outputs": [
    {
     "data": {
      "text/plain": [
       "<AxesSubplot:xlabel='Impor'>"
      ]
     },
     "execution_count": 168,
     "metadata": {},
     "output_type": "execute_result"
    },
    {
     "data": {
      "image/png": "[encoded data removed]",
      "text/plain": [
       "<Figure size 432x288 with 1 Axes>"
      ]
     },
     "metadata": {
      "needs_background": "light"
     },
     "output_type": "display_data"
    }
   ],
   "source": [
    "sns.boxplot('Impor', data=df)"
   ]
  },
  {
   "cell_type": "code",
   "execution_count": 169,
   "id": "cf7c1538",
   "metadata": {},
   "outputs": [
    {
     "data": {
      "text/plain": [
       "<AxesSubplot:xlabel='Pendapatan'>"
      ]
     },
     "execution_count": 169,
     "metadata": {},
     "output_type": "execute_result"
    },
    {
     "data": {
      "image/png": "[encoded data removed]",
      "text/plain": [
       "<Figure size 432x288 with 1 Axes>"
      ]
     },
     "metadata": {
      "needs_background": "light"
     },
     "output_type": "display_data"
    }
   ],
   "source": [
    "sns.boxplot('Pendapatan', data=df)"
   ]
  },
  {
   "cell_type": "code",
   "execution_count": 170,
   "id": "92643aae",
   "metadata": {},
   "outputs": [
    {
     "data": {
      "text/plain": [
       "<AxesSubplot:xlabel='Inflasi'>"
      ]
     },
     "execution_count": 170,
     "metadata": {},
     "output_type": "execute_result"
    },
    {
     "data": {
      "image/png": "[encoded data removed]",
      "text/plain": [
       "<Figure size 432x288 with 1 Axes>"
      ]
     },
     "metadata": {
      "needs_background": "light"
     },
     "output_type": "display_data"
    }
   ],
   "source": [
    "sns.boxplot('Inflasi', data=df)"
   ]
  },
  {
   "cell_type": "code",
   "execution_count": 171,
   "id": "c78d56d0",
   "metadata": {},
   "outputs": [
    {
     "data": {
      "text/plain": [
       "<AxesSubplot:xlabel='Harapan_hidup'>"
      ]
     },
     "execution_count": 171,
     "metadata": {},
     "output_type": "execute_result"
    },
    {
     "data": {
      "image/png": "[encoded data removed]",
      "text/plain": [
       "<Figure size 432x288 with 1 Axes>"
      ]
     },
     "metadata": {
      "needs_background": "light"
     },
     "output_type": "display_data"
    }
   ],
   "source": [
    "sns.boxplot('Harapan_hidup', data=df)"
   ]
  },
  {
   "cell_type": "code",
   "execution_count": 172,
   "id": "b45bb8b2",
   "metadata": {},
   "outputs": [
    {
     "data": {
      "text/plain": [
       "<AxesSubplot:xlabel='Jumlah_fertiliti'>"
      ]
     },
     "execution_count": 172,
     "metadata": {},
     "output_type": "execute_result"
    },
    {
     "data": {
      "image/png": "[encoded data removed]",
      "text/plain": [
       "<Figure size 432x288 with 1 Axes>"
      ]
     },
     "metadata": {
      "needs_background": "light"
     },
     "output_type": "display_data"
    }
   ],
   "source": [
    "sns.boxplot('Jumlah_fertiliti', data=df)"
   ]
  },
  {
   "cell_type": "code",
   "execution_count": 173,
   "id": "50d9e2a4",
   "metadata": {},
   "outputs": [
    {
     "data": {
      "text/plain": [
       "<AxesSubplot:xlabel='GDPperkapita'>"
      ]
     },
     "execution_count": 173,
     "metadata": {},
     "output_type": "execute_result"
    },
    {
     "data": {
      "image/png": "[encoded data removed]",
      "text/plain": [
       "<Figure size 432x288 with 1 Axes>"
      ]
     },
     "metadata": {
      "needs_background": "light"
     },
     "output_type": "display_data"
    }
   ],
   "source": [
    "sns.boxplot('GDPperkapita', data=df)"
   ]
  },
  {
   "cell_type": "code",
   "execution_count": 75,
   "id": "dff64cd3",
   "metadata": {},
   "outputs": [],
   "source": [
    "def finding_outlier(df):\n",
    "  Q1 = df.quantile(0.25)\n",
    "  Q3 = df.quantile(0.75)\n",
    "  IQR  = Q3-Q1\n",
    "  df_final = df[(df<(Q1-(1.5*IQR))) | (df>(Q3+(1.5*IQR)))]\n",
    "  return df_final"
   ]
  },
  {
   "cell_type": "code",
   "execution_count": 174,
   "id": "8a888c90",
   "metadata": {},
   "outputs": [
    {
     "name": "stdout",
     "output_type": "stream",
     "text": [
      "31     149.0\n",
      "32     150.0\n",
      "66     208.0\n",
      "132    160.0\n",
      "Name: Kematian_anak, dtype: float64\n",
      "73     103.0\n",
      "91     175.0\n",
      "98     153.0\n",
      "131     93.8\n",
      "133    200.0\n",
      "Name: Ekspor, dtype: float64\n",
      "101    14.2\n",
      "159    17.9\n",
      "Name: Kesehatan, dtype: float64\n",
      "91     142.0\n",
      "98     154.0\n",
      "131    108.0\n",
      "133    174.0\n",
      "Name: Impor, dtype: float64\n",
      "23      80600\n",
      "82      75200\n",
      "91      91700\n",
      "114     62300\n",
      "123    125000\n",
      "133     72100\n",
      "145     55500\n",
      "157     57600\n",
      "Name: Pendapatan, dtype: int64\n",
      "49      24.9\n",
      "103     39.2\n",
      "113    104.0\n",
      "149     26.5\n",
      "163     45.9\n",
      "Name: Inflasi, dtype: float64\n",
      "31    47.5\n",
      "66    32.1\n",
      "87    46.5\n",
      "Name: Harapan_hidup, dtype: float64\n",
      "112    7.49\n",
      "Name: Jumlah_fertiliti, dtype: float64\n",
      "7       51900\n",
      "8       46900\n",
      "15      44400\n",
      "23      35300\n",
      "29      47400\n",
      "44      58000\n",
      "53      46200\n",
      "54      40600\n",
      "58      41800\n",
      "68      41900\n",
      "73      48700\n",
      "75      35800\n",
      "77      44500\n",
      "82      38500\n",
      "91     105000\n",
      "110     50300\n",
      "111     33700\n",
      "114     87800\n",
      "123     70300\n",
      "133     46600\n",
      "144     52100\n",
      "145     74600\n",
      "157     35000\n",
      "158     38900\n",
      "159     48400\n",
      "Name: GDPperkapita, dtype: int64\n"
     ]
    }
   ],
   "source": [
    "print(finding_outlier(df['Kematian_anak']))\n",
    "print(finding_outlier(df['Ekspor']))\n",
    "print(finding_outlier(df['Kesehatan']))\n",
    "print(finding_outlier(df['Impor']))\n",
    "print(finding_outlier(df['Pendapatan']))\n",
    "print(finding_outlier(df['Inflasi']))\n",
    "print(finding_outlier(df['Harapan_hidup']))\n",
    "print(finding_outlier(df['Jumlah_fertiliti']))\n",
    "print(finding_outlier(df['GDPperkapita']))"
   ]
  },
  {
   "cell_type": "code",
   "execution_count": 77,
   "id": "682b31b4",
   "metadata": {},
   "outputs": [],
   "source": [
    "def remove_outlier(df):\n",
    "  Q1 = df.quantile(0.25)\n",
    "  Q3 = df.quantile(0.75)\n",
    "  IQR  = Q3-Q1\n",
    "  df_final = df[~(df>(Q1-(1.5*IQR))) | (df<(Q3+(1.5*IQR)))]\n",
    "  return df_final"
   ]
  },
  {
   "cell_type": "code",
   "execution_count": 384,
   "id": "4cb565a8",
   "metadata": {},
   "outputs": [
    {
     "data": {
      "text/html": [
       "<div>\n",
       "<style scoped>\n",
       "    .dataframe tbody tr th:only-of-type {\n",
       "        vertical-align: middle;\n",
       "    }\n",
       "\n",
       "    .dataframe tbody tr th {\n",
       "        vertical-align: top;\n",
       "    }\n",
       "\n",
       "    .dataframe thead th {\n",
       "        text-align: right;\n",
       "    }\n",
       "</style>\n",
       "<table border=\"1\" class=\"dataframe\">\n",
       "  <thead>\n",
       "    <tr style=\"text-align: right;\">\n",
       "      <th></th>\n",
       "      <th>Negara</th>\n",
       "      <th>Kematian_anak</th>\n",
       "      <th>Ekspor</th>\n",
       "      <th>Kesehatan</th>\n",
       "      <th>Impor</th>\n",
       "      <th>Pendapatan</th>\n",
       "      <th>Inflasi</th>\n",
       "      <th>Harapan_hidup</th>\n",
       "      <th>Jumlah_fertiliti</th>\n",
       "      <th>GDPperkapita</th>\n",
       "    </tr>\n",
       "  </thead>\n",
       "  <tbody>\n",
       "    <tr>\n",
       "      <th>0</th>\n",
       "      <td>Afghanistan</td>\n",
       "      <td>90.2</td>\n",
       "      <td>10.0</td>\n",
       "      <td>7.58</td>\n",
       "      <td>44.9</td>\n",
       "      <td>1610.0</td>\n",
       "      <td>9.44</td>\n",
       "      <td>56.2</td>\n",
       "      <td>5.82</td>\n",
       "      <td>553.0</td>\n",
       "    </tr>\n",
       "    <tr>\n",
       "      <th>1</th>\n",
       "      <td>Albania</td>\n",
       "      <td>16.6</td>\n",
       "      <td>28.0</td>\n",
       "      <td>6.55</td>\n",
       "      <td>48.6</td>\n",
       "      <td>9930.0</td>\n",
       "      <td>4.49</td>\n",
       "      <td>76.3</td>\n",
       "      <td>1.65</td>\n",
       "      <td>4090.0</td>\n",
       "    </tr>\n",
       "    <tr>\n",
       "      <th>2</th>\n",
       "      <td>Algeria</td>\n",
       "      <td>27.3</td>\n",
       "      <td>38.4</td>\n",
       "      <td>4.17</td>\n",
       "      <td>31.4</td>\n",
       "      <td>12900.0</td>\n",
       "      <td>16.10</td>\n",
       "      <td>76.5</td>\n",
       "      <td>2.89</td>\n",
       "      <td>4460.0</td>\n",
       "    </tr>\n",
       "    <tr>\n",
       "      <th>3</th>\n",
       "      <td>Angola</td>\n",
       "      <td>119.0</td>\n",
       "      <td>62.3</td>\n",
       "      <td>2.85</td>\n",
       "      <td>42.9</td>\n",
       "      <td>5900.0</td>\n",
       "      <td>22.40</td>\n",
       "      <td>60.1</td>\n",
       "      <td>6.16</td>\n",
       "      <td>3530.0</td>\n",
       "    </tr>\n",
       "    <tr>\n",
       "      <th>4</th>\n",
       "      <td>Antigua and Barbuda</td>\n",
       "      <td>10.3</td>\n",
       "      <td>45.5</td>\n",
       "      <td>6.03</td>\n",
       "      <td>58.9</td>\n",
       "      <td>19100.0</td>\n",
       "      <td>1.44</td>\n",
       "      <td>76.8</td>\n",
       "      <td>2.13</td>\n",
       "      <td>12200.0</td>\n",
       "    </tr>\n",
       "    <tr>\n",
       "      <th>...</th>\n",
       "      <td>...</td>\n",
       "      <td>...</td>\n",
       "      <td>...</td>\n",
       "      <td>...</td>\n",
       "      <td>...</td>\n",
       "      <td>...</td>\n",
       "      <td>...</td>\n",
       "      <td>...</td>\n",
       "      <td>...</td>\n",
       "      <td>...</td>\n",
       "    </tr>\n",
       "    <tr>\n",
       "      <th>161</th>\n",
       "      <td>Uzbekistan</td>\n",
       "      <td>36.3</td>\n",
       "      <td>31.7</td>\n",
       "      <td>5.81</td>\n",
       "      <td>28.5</td>\n",
       "      <td>4240.0</td>\n",
       "      <td>16.50</td>\n",
       "      <td>68.8</td>\n",
       "      <td>2.34</td>\n",
       "      <td>1380.0</td>\n",
       "    </tr>\n",
       "    <tr>\n",
       "      <th>162</th>\n",
       "      <td>Vanuatu</td>\n",
       "      <td>29.2</td>\n",
       "      <td>46.6</td>\n",
       "      <td>5.25</td>\n",
       "      <td>52.7</td>\n",
       "      <td>2950.0</td>\n",
       "      <td>2.62</td>\n",
       "      <td>63.0</td>\n",
       "      <td>3.50</td>\n",
       "      <td>2970.0</td>\n",
       "    </tr>\n",
       "    <tr>\n",
       "      <th>164</th>\n",
       "      <td>Vietnam</td>\n",
       "      <td>23.3</td>\n",
       "      <td>72.0</td>\n",
       "      <td>6.84</td>\n",
       "      <td>80.2</td>\n",
       "      <td>4490.0</td>\n",
       "      <td>12.10</td>\n",
       "      <td>73.1</td>\n",
       "      <td>1.95</td>\n",
       "      <td>1310.0</td>\n",
       "    </tr>\n",
       "    <tr>\n",
       "      <th>165</th>\n",
       "      <td>Yemen</td>\n",
       "      <td>56.3</td>\n",
       "      <td>30.0</td>\n",
       "      <td>5.18</td>\n",
       "      <td>34.4</td>\n",
       "      <td>4480.0</td>\n",
       "      <td>23.60</td>\n",
       "      <td>67.5</td>\n",
       "      <td>4.67</td>\n",
       "      <td>1310.0</td>\n",
       "    </tr>\n",
       "    <tr>\n",
       "      <th>166</th>\n",
       "      <td>Zambia</td>\n",
       "      <td>83.1</td>\n",
       "      <td>37.0</td>\n",
       "      <td>5.89</td>\n",
       "      <td>30.9</td>\n",
       "      <td>3280.0</td>\n",
       "      <td>14.00</td>\n",
       "      <td>52.0</td>\n",
       "      <td>5.40</td>\n",
       "      <td>1460.0</td>\n",
       "    </tr>\n",
       "  </tbody>\n",
       "</table>\n",
       "<p>129 rows × 10 columns</p>\n",
       "</div>"
      ],
      "text/plain": [
       "                  Negara  Kematian_anak  Ekspor  Kesehatan  Impor  Pendapatan  \\\n",
       "0            Afghanistan           90.2    10.0       7.58   44.9      1610.0   \n",
       "1                Albania           16.6    28.0       6.55   48.6      9930.0   \n",
       "2                Algeria           27.3    38.4       4.17   31.4     12900.0   \n",
       "3                 Angola          119.0    62.3       2.85   42.9      5900.0   \n",
       "4    Antigua and Barbuda           10.3    45.5       6.03   58.9     19100.0   \n",
       "..                   ...            ...     ...        ...    ...         ...   \n",
       "161           Uzbekistan           36.3    31.7       5.81   28.5      4240.0   \n",
       "162              Vanuatu           29.2    46.6       5.25   52.7      2950.0   \n",
       "164              Vietnam           23.3    72.0       6.84   80.2      4490.0   \n",
       "165                Yemen           56.3    30.0       5.18   34.4      4480.0   \n",
       "166               Zambia           83.1    37.0       5.89   30.9      3280.0   \n",
       "\n",
       "     Inflasi  Harapan_hidup  Jumlah_fertiliti  GDPperkapita  \n",
       "0       9.44           56.2              5.82         553.0  \n",
       "1       4.49           76.3              1.65        4090.0  \n",
       "2      16.10           76.5              2.89        4460.0  \n",
       "3      22.40           60.1              6.16        3530.0  \n",
       "4       1.44           76.8              2.13       12200.0  \n",
       "..       ...            ...               ...           ...  \n",
       "161    16.50           68.8              2.34        1380.0  \n",
       "162     2.62           63.0              3.50        2970.0  \n",
       "164    12.10           73.1              1.95        1310.0  \n",
       "165    23.60           67.5              4.67        1310.0  \n",
       "166    14.00           52.0              5.40        1460.0  \n",
       "\n",
       "[129 rows x 10 columns]"
      ]
     },
     "execution_count": 384,
     "metadata": {},
     "output_type": "execute_result"
    }
   ],
   "source": [
    "df2 = remove_outlier(df)\n",
    "\n",
    "df2.dropna(axis=0, inplace=True)\n",
    "df2"
   ]
  },
  {
   "cell_type": "code",
   "execution_count": 385,
   "id": "645fabb2",
   "metadata": {},
   "outputs": [
    {
     "data": {
      "text/plain": [
       "<AxesSubplot:xlabel='Kematian_anak'>"
      ]
     },
     "execution_count": 385,
     "metadata": {},
     "output_type": "execute_result"
    },
    {
     "data": {
      "image/png": "[encoded data removed]",
      "text/plain": [
       "<Figure size 432x288 with 1 Axes>"
      ]
     },
     "metadata": {
      "needs_background": "light"
     },
     "output_type": "display_data"
    }
   ],
   "source": [
    "sns.boxplot('Kematian_anak', data=df2)"
   ]
  },
  {
   "cell_type": "code",
   "execution_count": 386,
   "id": "709afc8e",
   "metadata": {},
   "outputs": [
    {
     "data": {
      "text/plain": [
       "<AxesSubplot:xlabel='Ekspor'>"
      ]
     },
     "execution_count": 386,
     "metadata": {},
     "output_type": "execute_result"
    },
    {
     "data": {
      "image/png": "[encoded data removed]",
      "text/plain": [
       "<Figure size 432x288 with 1 Axes>"
      ]
     },
     "metadata": {
      "needs_background": "light"
     },
     "output_type": "display_data"
    }
   ],
   "source": [
    "sns.boxplot('Ekspor', data=df2)"
   ]
  },
  {
   "cell_type": "code",
   "execution_count": 387,
   "id": "88fb9fcd",
   "metadata": {},
   "outputs": [
    {
     "data": {
      "text/plain": [
       "<AxesSubplot:xlabel='Kesehatan'>"
      ]
     },
     "execution_count": 387,
     "metadata": {},
     "output_type": "execute_result"
    },
    {
     "data": {
      "image/png": "[encoded data removed]",
      "text/plain": [
       "<Figure size 432x288 with 1 Axes>"
      ]
     },
     "metadata": {
      "needs_background": "light"
     },
     "output_type": "display_data"
    }
   ],
   "source": [
    "sns.boxplot('Kesehatan', data=df2)"
   ]
  },
  {
   "cell_type": "code",
   "execution_count": 388,
   "id": "73d5d438",
   "metadata": {},
   "outputs": [
    {
     "data": {
      "text/plain": [
       "<AxesSubplot:xlabel='Impor'>"
      ]
     },
     "execution_count": 388,
     "metadata": {},
     "output_type": "execute_result"
    },
    {
     "data": {
      "image/png": "[encoded data removed]",
      "text/plain": [
       "<Figure size 432x288 with 1 Axes>"
      ]
     },
     "metadata": {
      "needs_background": "light"
     },
     "output_type": "display_data"
    }
   ],
   "source": [
    "sns.boxplot('Impor', data=df2)"
   ]
  },
  {
   "cell_type": "code",
   "execution_count": 389,
   "id": "582bf5b0",
   "metadata": {},
   "outputs": [
    {
     "data": {
      "text/plain": [
       "<AxesSubplot:xlabel='Pendapatan'>"
      ]
     },
     "execution_count": 389,
     "metadata": {},
     "output_type": "execute_result"
    },
    {
     "data": {
      "image/png": "[encoded data removed]",
      "text/plain": [
       "<Figure size 432x288 with 1 Axes>"
      ]
     },
     "metadata": {
      "needs_background": "light"
     },
     "output_type": "display_data"
    }
   ],
   "source": [
    "sns.boxplot('Pendapatan', data=df2)"
   ]
  },
  {
   "cell_type": "code",
   "execution_count": 390,
   "id": "fa1ea755",
   "metadata": {},
   "outputs": [
    {
     "data": {
      "text/plain": [
       "<AxesSubplot:xlabel='Inflasi'>"
      ]
     },
     "execution_count": 390,
     "metadata": {},
     "output_type": "execute_result"
    },
    {
     "data": {
      "image/png": "[encoded data removed]",
      "text/plain": [
       "<Figure size 432x288 with 1 Axes>"
      ]
     },
     "metadata": {
      "needs_background": "light"
     },
     "output_type": "display_data"
    }
   ],
   "source": [
    "sns.boxplot('Inflasi', data=df2)"
   ]
  },
  {
   "cell_type": "code",
   "execution_count": 391,
   "id": "ad8a8717",
   "metadata": {},
   "outputs": [
    {
     "data": {
      "text/plain": [
       "<AxesSubplot:xlabel='Harapan_hidup'>"
      ]
     },
     "execution_count": 391,
     "metadata": {},
     "output_type": "execute_result"
    },
    {
     "data": {
      "image/png": "[encoded data removed]",
      "text/plain": [
       "<Figure size 432x288 with 1 Axes>"
      ]
     },
     "metadata": {
      "needs_background": "light"
     },
     "output_type": "display_data"
    }
   ],
   "source": [
    "sns.boxplot('Harapan_hidup', data=df2)"
   ]
  },
  {
   "cell_type": "code",
   "execution_count": 392,
   "id": "a71ed6b6",
   "metadata": {},
   "outputs": [
    {
     "data": {
      "text/plain": [
       "<AxesSubplot:xlabel='Jumlah_fertiliti'>"
      ]
     },
     "execution_count": 392,
     "metadata": {},
     "output_type": "execute_result"
    },
    {
     "data": {
      "image/png": "[encoded data removed]",
      "text/plain": [
       "<Figure size 432x288 with 1 Axes>"
      ]
     },
     "metadata": {
      "needs_background": "light"
     },
     "output_type": "display_data"
    }
   ],
   "source": [
    "sns.boxplot('Jumlah_fertiliti', data=df2)"
   ]
  },
  {
   "cell_type": "code",
   "execution_count": 393,
   "id": "b9a85d93",
   "metadata": {},
   "outputs": [
    {
     "data": {
      "text/plain": [
       "<AxesSubplot:xlabel='GDPperkapita'>"
      ]
     },
     "execution_count": 393,
     "metadata": {},
     "output_type": "execute_result"
    },
    {
     "data": {
      "image/png": "[encoded data removed]",
      "text/plain": [
       "<Figure size 432x288 with 1 Axes>"
      ]
     },
     "metadata": {
      "needs_background": "light"
     },
     "output_type": "display_data"
    }
   ],
   "source": [
    "sns.boxplot('GDPperkapita', data=df2)"
   ]
  },
  {
   "cell_type": "code",
   "execution_count": 394,
   "id": "7f204fe7",
   "metadata": {},
   "outputs": [],
   "source": [
    "def finding_outlier(df2):\n",
    "  Q1 = df2.quantile(0.25)\n",
    "  Q3 = df2.quantile(0.75)\n",
    "  IQR  = Q3-Q1\n",
    "  df_final = df2[(df2<(Q1-(1.5*IQR))) | (df2>(Q3+(1.5*IQR)))]\n",
    "  return df_final"
   ]
  },
  {
   "cell_type": "code",
   "execution_count": 395,
   "id": "1af0d6b2",
   "metadata": {},
   "outputs": [
    {
     "name": "stdout",
     "output_type": "stream",
     "text": [
      "87    101.0\n",
      "Name: Impor, dtype: float64\n",
      "11     41100.0\n",
      "115    45300.0\n",
      "128    45400.0\n",
      "Name: Pendapatan, dtype: float64\n",
      "10     28000.0\n",
      "11     20700.0\n",
      "42     30800.0\n",
      "43     19800.0\n",
      "60     26900.0\n",
      "74     30600.0\n",
      "115    19300.0\n",
      "122    22500.0\n",
      "128    19300.0\n",
      "135    23400.0\n",
      "138    22100.0\n",
      "139    30700.0\n",
      "Name: GDPperkapita, dtype: float64\n"
     ]
    }
   ],
   "source": [
    "print(finding_outlier(df2['Impor']))\n",
    "print(finding_outlier(df2['Pendapatan']))\n",
    "print(finding_outlier(df2['GDPperkapita']))"
   ]
  },
  {
   "cell_type": "code",
   "execution_count": 396,
   "id": "7be1cfb8",
   "metadata": {},
   "outputs": [],
   "source": [
    "def remove_outlier(df2):\n",
    "  Q1 = df2.quantile(0.25)\n",
    "  Q3 = df2.quantile(0.75)\n",
    "  IQR  = Q3-Q1\n",
    "  df_final = df2[~(df2>(Q1-(1.5*IQR))) | (df2<(Q3+(1.5*IQR)))]\n",
    "  return df_final"
   ]
  },
  {
   "cell_type": "code",
   "execution_count": 397,
   "id": "fe9a275e",
   "metadata": {},
   "outputs": [
    {
     "data": {
      "text/html": [
       "<div>\n",
       "<style scoped>\n",
       "    .dataframe tbody tr th:only-of-type {\n",
       "        vertical-align: middle;\n",
       "    }\n",
       "\n",
       "    .dataframe tbody tr th {\n",
       "        vertical-align: top;\n",
       "    }\n",
       "\n",
       "    .dataframe thead th {\n",
       "        text-align: right;\n",
       "    }\n",
       "</style>\n",
       "<table border=\"1\" class=\"dataframe\">\n",
       "  <thead>\n",
       "    <tr style=\"text-align: right;\">\n",
       "      <th></th>\n",
       "      <th>Negara</th>\n",
       "      <th>Kematian_anak</th>\n",
       "      <th>Ekspor</th>\n",
       "      <th>Kesehatan</th>\n",
       "      <th>Impor</th>\n",
       "      <th>Pendapatan</th>\n",
       "      <th>Inflasi</th>\n",
       "      <th>Harapan_hidup</th>\n",
       "      <th>Jumlah_fertiliti</th>\n",
       "      <th>GDPperkapita</th>\n",
       "    </tr>\n",
       "  </thead>\n",
       "  <tbody>\n",
       "    <tr>\n",
       "      <th>0</th>\n",
       "      <td>Afghanistan</td>\n",
       "      <td>90.2</td>\n",
       "      <td>10.0</td>\n",
       "      <td>7.58</td>\n",
       "      <td>44.9</td>\n",
       "      <td>1610.0</td>\n",
       "      <td>9.44</td>\n",
       "      <td>56.2</td>\n",
       "      <td>5.82</td>\n",
       "      <td>553.0</td>\n",
       "    </tr>\n",
       "    <tr>\n",
       "      <th>1</th>\n",
       "      <td>Albania</td>\n",
       "      <td>16.6</td>\n",
       "      <td>28.0</td>\n",
       "      <td>6.55</td>\n",
       "      <td>48.6</td>\n",
       "      <td>9930.0</td>\n",
       "      <td>4.49</td>\n",
       "      <td>76.3</td>\n",
       "      <td>1.65</td>\n",
       "      <td>4090.0</td>\n",
       "    </tr>\n",
       "    <tr>\n",
       "      <th>2</th>\n",
       "      <td>Algeria</td>\n",
       "      <td>27.3</td>\n",
       "      <td>38.4</td>\n",
       "      <td>4.17</td>\n",
       "      <td>31.4</td>\n",
       "      <td>12900.0</td>\n",
       "      <td>16.10</td>\n",
       "      <td>76.5</td>\n",
       "      <td>2.89</td>\n",
       "      <td>4460.0</td>\n",
       "    </tr>\n",
       "    <tr>\n",
       "      <th>3</th>\n",
       "      <td>Angola</td>\n",
       "      <td>119.0</td>\n",
       "      <td>62.3</td>\n",
       "      <td>2.85</td>\n",
       "      <td>42.9</td>\n",
       "      <td>5900.0</td>\n",
       "      <td>22.40</td>\n",
       "      <td>60.1</td>\n",
       "      <td>6.16</td>\n",
       "      <td>3530.0</td>\n",
       "    </tr>\n",
       "    <tr>\n",
       "      <th>4</th>\n",
       "      <td>Antigua and Barbuda</td>\n",
       "      <td>10.3</td>\n",
       "      <td>45.5</td>\n",
       "      <td>6.03</td>\n",
       "      <td>58.9</td>\n",
       "      <td>19100.0</td>\n",
       "      <td>1.44</td>\n",
       "      <td>76.8</td>\n",
       "      <td>2.13</td>\n",
       "      <td>12200.0</td>\n",
       "    </tr>\n",
       "    <tr>\n",
       "      <th>...</th>\n",
       "      <td>...</td>\n",
       "      <td>...</td>\n",
       "      <td>...</td>\n",
       "      <td>...</td>\n",
       "      <td>...</td>\n",
       "      <td>...</td>\n",
       "      <td>...</td>\n",
       "      <td>...</td>\n",
       "      <td>...</td>\n",
       "      <td>...</td>\n",
       "    </tr>\n",
       "    <tr>\n",
       "      <th>161</th>\n",
       "      <td>Uzbekistan</td>\n",
       "      <td>36.3</td>\n",
       "      <td>31.7</td>\n",
       "      <td>5.81</td>\n",
       "      <td>28.5</td>\n",
       "      <td>4240.0</td>\n",
       "      <td>16.50</td>\n",
       "      <td>68.8</td>\n",
       "      <td>2.34</td>\n",
       "      <td>1380.0</td>\n",
       "    </tr>\n",
       "    <tr>\n",
       "      <th>162</th>\n",
       "      <td>Vanuatu</td>\n",
       "      <td>29.2</td>\n",
       "      <td>46.6</td>\n",
       "      <td>5.25</td>\n",
       "      <td>52.7</td>\n",
       "      <td>2950.0</td>\n",
       "      <td>2.62</td>\n",
       "      <td>63.0</td>\n",
       "      <td>3.50</td>\n",
       "      <td>2970.0</td>\n",
       "    </tr>\n",
       "    <tr>\n",
       "      <th>164</th>\n",
       "      <td>Vietnam</td>\n",
       "      <td>23.3</td>\n",
       "      <td>72.0</td>\n",
       "      <td>6.84</td>\n",
       "      <td>80.2</td>\n",
       "      <td>4490.0</td>\n",
       "      <td>12.10</td>\n",
       "      <td>73.1</td>\n",
       "      <td>1.95</td>\n",
       "      <td>1310.0</td>\n",
       "    </tr>\n",
       "    <tr>\n",
       "      <th>165</th>\n",
       "      <td>Yemen</td>\n",
       "      <td>56.3</td>\n",
       "      <td>30.0</td>\n",
       "      <td>5.18</td>\n",
       "      <td>34.4</td>\n",
       "      <td>4480.0</td>\n",
       "      <td>23.60</td>\n",
       "      <td>67.5</td>\n",
       "      <td>4.67</td>\n",
       "      <td>1310.0</td>\n",
       "    </tr>\n",
       "    <tr>\n",
       "      <th>166</th>\n",
       "      <td>Zambia</td>\n",
       "      <td>83.1</td>\n",
       "      <td>37.0</td>\n",
       "      <td>5.89</td>\n",
       "      <td>30.9</td>\n",
       "      <td>3280.0</td>\n",
       "      <td>14.00</td>\n",
       "      <td>52.0</td>\n",
       "      <td>5.40</td>\n",
       "      <td>1460.0</td>\n",
       "    </tr>\n",
       "  </tbody>\n",
       "</table>\n",
       "<p>116 rows × 10 columns</p>\n",
       "</div>"
      ],
      "text/plain": [
       "                  Negara  Kematian_anak  Ekspor  Kesehatan  Impor  Pendapatan  \\\n",
       "0            Afghanistan           90.2    10.0       7.58   44.9      1610.0   \n",
       "1                Albania           16.6    28.0       6.55   48.6      9930.0   \n",
       "2                Algeria           27.3    38.4       4.17   31.4     12900.0   \n",
       "3                 Angola          119.0    62.3       2.85   42.9      5900.0   \n",
       "4    Antigua and Barbuda           10.3    45.5       6.03   58.9     19100.0   \n",
       "..                   ...            ...     ...        ...    ...         ...   \n",
       "161           Uzbekistan           36.3    31.7       5.81   28.5      4240.0   \n",
       "162              Vanuatu           29.2    46.6       5.25   52.7      2950.0   \n",
       "164              Vietnam           23.3    72.0       6.84   80.2      4490.0   \n",
       "165                Yemen           56.3    30.0       5.18   34.4      4480.0   \n",
       "166               Zambia           83.1    37.0       5.89   30.9      3280.0   \n",
       "\n",
       "     Inflasi  Harapan_hidup  Jumlah_fertiliti  GDPperkapita  \n",
       "0       9.44           56.2              5.82         553.0  \n",
       "1       4.49           76.3              1.65        4090.0  \n",
       "2      16.10           76.5              2.89        4460.0  \n",
       "3      22.40           60.1              6.16        3530.0  \n",
       "4       1.44           76.8              2.13       12200.0  \n",
       "..       ...            ...               ...           ...  \n",
       "161    16.50           68.8              2.34        1380.0  \n",
       "162     2.62           63.0              3.50        2970.0  \n",
       "164    12.10           73.1              1.95        1310.0  \n",
       "165    23.60           67.5              4.67        1310.0  \n",
       "166    14.00           52.0              5.40        1460.0  \n",
       "\n",
       "[116 rows x 10 columns]"
      ]
     },
     "execution_count": 397,
     "metadata": {},
     "output_type": "execute_result"
    }
   ],
   "source": [
    "df3 = remove_outlier(df2)\n",
    "\n",
    "df3.dropna(axis=0, inplace=True)\n",
    "df3"
   ]
  },
  {
   "cell_type": "code",
   "execution_count": 398,
   "id": "b22ce32b",
   "metadata": {},
   "outputs": [
    {
     "data": {
      "text/plain": [
       "<AxesSubplot:xlabel='Impor'>"
      ]
     },
     "execution_count": 398,
     "metadata": {},
     "output_type": "execute_result"
    },
    {
     "data": {
      "image/png": "[encoded data removed]",
      "text/plain": [
       "<Figure size 432x288 with 1 Axes>"
      ]
     },
     "metadata": {
      "needs_background": "light"
     },
     "output_type": "display_data"
    }
   ],
   "source": [
    "sns.boxplot('Impor', data=df3)"
   ]
  },
  {
   "cell_type": "code",
   "execution_count": 399,
   "id": "73808a4b",
   "metadata": {},
   "outputs": [
    {
     "data": {
      "text/plain": [
       "<AxesSubplot:xlabel='Pendapatan'>"
      ]
     },
     "execution_count": 399,
     "metadata": {},
     "output_type": "execute_result"
    },
    {
     "data": {
      "image/png": "[encoded data removed]",
      "text/plain": [
       "<Figure size 432x288 with 1 Axes>"
      ]
     },
     "metadata": {
      "needs_background": "light"
     },
     "output_type": "display_data"
    }
   ],
   "source": [
    "sns.boxplot('Pendapatan', data=df3)"
   ]
  },
  {
   "cell_type": "code",
   "execution_count": 400,
   "id": "0bac4138",
   "metadata": {},
   "outputs": [
    {
     "data": {
      "text/plain": [
       "<AxesSubplot:xlabel='GDPperkapita'>"
      ]
     },
     "execution_count": 400,
     "metadata": {},
     "output_type": "execute_result"
    },
    {
     "data": {
      "image/png": "[encoded data removed]",
      "text/plain": [
       "<Figure size 432x288 with 1 Axes>"
      ]
     },
     "metadata": {
      "needs_background": "light"
     },
     "output_type": "display_data"
    }
   ],
   "source": [
    "sns.boxplot('GDPperkapita', data=df3)"
   ]
  },
  {
   "cell_type": "code",
   "execution_count": 401,
   "id": "7e965fa6",
   "metadata": {},
   "outputs": [],
   "source": [
    "def finding_outlier(df3):\n",
    "  Q1 = df3.quantile(0.25)\n",
    "  Q3 = df3.quantile(0.75)\n",
    "  IQR  = Q3-Q1\n",
    "  df_final = df3[(df3<(Q1-(1.5*IQR))) | (df3>(Q3+(1.5*IQR)))]\n",
    "  return df_final"
   ]
  },
  {
   "cell_type": "code",
   "execution_count": 403,
   "id": "4cf2c6c8",
   "metadata": {},
   "outputs": [
    {
     "name": "stdout",
     "output_type": "stream",
     "text": [
      "13     16000.0\n",
      "134    16600.0\n",
      "Name: GDPperkapita, dtype: float64\n"
     ]
    }
   ],
   "source": [
    "print(finding_outlier(df3['GDPperkapita']))"
   ]
  },
  {
   "cell_type": "code",
   "execution_count": 404,
   "id": "994bedaa",
   "metadata": {},
   "outputs": [
    {
     "data": {
      "text/html": [
       "<div>\n",
       "<style scoped>\n",
       "    .dataframe tbody tr th:only-of-type {\n",
       "        vertical-align: middle;\n",
       "    }\n",
       "\n",
       "    .dataframe tbody tr th {\n",
       "        vertical-align: top;\n",
       "    }\n",
       "\n",
       "    .dataframe thead th {\n",
       "        text-align: right;\n",
       "    }\n",
       "</style>\n",
       "<table border=\"1\" class=\"dataframe\">\n",
       "  <thead>\n",
       "    <tr style=\"text-align: right;\">\n",
       "      <th></th>\n",
       "      <th>Negara</th>\n",
       "      <th>Kematian_anak</th>\n",
       "      <th>Ekspor</th>\n",
       "      <th>Kesehatan</th>\n",
       "      <th>Impor</th>\n",
       "      <th>Pendapatan</th>\n",
       "      <th>Inflasi</th>\n",
       "      <th>Harapan_hidup</th>\n",
       "      <th>Jumlah_fertiliti</th>\n",
       "      <th>GDPperkapita</th>\n",
       "    </tr>\n",
       "  </thead>\n",
       "  <tbody>\n",
       "    <tr>\n",
       "      <th>0</th>\n",
       "      <td>Afghanistan</td>\n",
       "      <td>90.2</td>\n",
       "      <td>10.0</td>\n",
       "      <td>7.58</td>\n",
       "      <td>44.9</td>\n",
       "      <td>1610.0</td>\n",
       "      <td>9.44</td>\n",
       "      <td>56.2</td>\n",
       "      <td>5.82</td>\n",
       "      <td>553.0</td>\n",
       "    </tr>\n",
       "    <tr>\n",
       "      <th>1</th>\n",
       "      <td>Albania</td>\n",
       "      <td>16.6</td>\n",
       "      <td>28.0</td>\n",
       "      <td>6.55</td>\n",
       "      <td>48.6</td>\n",
       "      <td>9930.0</td>\n",
       "      <td>4.49</td>\n",
       "      <td>76.3</td>\n",
       "      <td>1.65</td>\n",
       "      <td>4090.0</td>\n",
       "    </tr>\n",
       "    <tr>\n",
       "      <th>2</th>\n",
       "      <td>Algeria</td>\n",
       "      <td>27.3</td>\n",
       "      <td>38.4</td>\n",
       "      <td>4.17</td>\n",
       "      <td>31.4</td>\n",
       "      <td>12900.0</td>\n",
       "      <td>16.10</td>\n",
       "      <td>76.5</td>\n",
       "      <td>2.89</td>\n",
       "      <td>4460.0</td>\n",
       "    </tr>\n",
       "    <tr>\n",
       "      <th>3</th>\n",
       "      <td>Angola</td>\n",
       "      <td>119.0</td>\n",
       "      <td>62.3</td>\n",
       "      <td>2.85</td>\n",
       "      <td>42.9</td>\n",
       "      <td>5900.0</td>\n",
       "      <td>22.40</td>\n",
       "      <td>60.1</td>\n",
       "      <td>6.16</td>\n",
       "      <td>3530.0</td>\n",
       "    </tr>\n",
       "    <tr>\n",
       "      <th>4</th>\n",
       "      <td>Antigua and Barbuda</td>\n",
       "      <td>10.3</td>\n",
       "      <td>45.5</td>\n",
       "      <td>6.03</td>\n",
       "      <td>58.9</td>\n",
       "      <td>19100.0</td>\n",
       "      <td>1.44</td>\n",
       "      <td>76.8</td>\n",
       "      <td>2.13</td>\n",
       "      <td>12200.0</td>\n",
       "    </tr>\n",
       "    <tr>\n",
       "      <th>...</th>\n",
       "      <td>...</td>\n",
       "      <td>...</td>\n",
       "      <td>...</td>\n",
       "      <td>...</td>\n",
       "      <td>...</td>\n",
       "      <td>...</td>\n",
       "      <td>...</td>\n",
       "      <td>...</td>\n",
       "      <td>...</td>\n",
       "      <td>...</td>\n",
       "    </tr>\n",
       "    <tr>\n",
       "      <th>161</th>\n",
       "      <td>Uzbekistan</td>\n",
       "      <td>36.3</td>\n",
       "      <td>31.7</td>\n",
       "      <td>5.81</td>\n",
       "      <td>28.5</td>\n",
       "      <td>4240.0</td>\n",
       "      <td>16.50</td>\n",
       "      <td>68.8</td>\n",
       "      <td>2.34</td>\n",
       "      <td>1380.0</td>\n",
       "    </tr>\n",
       "    <tr>\n",
       "      <th>162</th>\n",
       "      <td>Vanuatu</td>\n",
       "      <td>29.2</td>\n",
       "      <td>46.6</td>\n",
       "      <td>5.25</td>\n",
       "      <td>52.7</td>\n",
       "      <td>2950.0</td>\n",
       "      <td>2.62</td>\n",
       "      <td>63.0</td>\n",
       "      <td>3.50</td>\n",
       "      <td>2970.0</td>\n",
       "    </tr>\n",
       "    <tr>\n",
       "      <th>164</th>\n",
       "      <td>Vietnam</td>\n",
       "      <td>23.3</td>\n",
       "      <td>72.0</td>\n",
       "      <td>6.84</td>\n",
       "      <td>80.2</td>\n",
       "      <td>4490.0</td>\n",
       "      <td>12.10</td>\n",
       "      <td>73.1</td>\n",
       "      <td>1.95</td>\n",
       "      <td>1310.0</td>\n",
       "    </tr>\n",
       "    <tr>\n",
       "      <th>165</th>\n",
       "      <td>Yemen</td>\n",
       "      <td>56.3</td>\n",
       "      <td>30.0</td>\n",
       "      <td>5.18</td>\n",
       "      <td>34.4</td>\n",
       "      <td>4480.0</td>\n",
       "      <td>23.60</td>\n",
       "      <td>67.5</td>\n",
       "      <td>4.67</td>\n",
       "      <td>1310.0</td>\n",
       "    </tr>\n",
       "    <tr>\n",
       "      <th>166</th>\n",
       "      <td>Zambia</td>\n",
       "      <td>83.1</td>\n",
       "      <td>37.0</td>\n",
       "      <td>5.89</td>\n",
       "      <td>30.9</td>\n",
       "      <td>3280.0</td>\n",
       "      <td>14.00</td>\n",
       "      <td>52.0</td>\n",
       "      <td>5.40</td>\n",
       "      <td>1460.0</td>\n",
       "    </tr>\n",
       "  </tbody>\n",
       "</table>\n",
       "<p>112 rows × 10 columns</p>\n",
       "</div>"
      ],
      "text/plain": [
       "                  Negara  Kematian_anak  Ekspor  Kesehatan  Impor  Pendapatan  \\\n",
       "0            Afghanistan           90.2    10.0       7.58   44.9      1610.0   \n",
       "1                Albania           16.6    28.0       6.55   48.6      9930.0   \n",
       "2                Algeria           27.3    38.4       4.17   31.4     12900.0   \n",
       "3                 Angola          119.0    62.3       2.85   42.9      5900.0   \n",
       "4    Antigua and Barbuda           10.3    45.5       6.03   58.9     19100.0   \n",
       "..                   ...            ...     ...        ...    ...         ...   \n",
       "161           Uzbekistan           36.3    31.7       5.81   28.5      4240.0   \n",
       "162              Vanuatu           29.2    46.6       5.25   52.7      2950.0   \n",
       "164              Vietnam           23.3    72.0       6.84   80.2      4490.0   \n",
       "165                Yemen           56.3    30.0       5.18   34.4      4480.0   \n",
       "166               Zambia           83.1    37.0       5.89   30.9      3280.0   \n",
       "\n",
       "     Inflasi  Harapan_hidup  Jumlah_fertiliti  GDPperkapita  \n",
       "0       9.44           56.2              5.82         553.0  \n",
       "1       4.49           76.3              1.65        4090.0  \n",
       "2      16.10           76.5              2.89        4460.0  \n",
       "3      22.40           60.1              6.16        3530.0  \n",
       "4       1.44           76.8              2.13       12200.0  \n",
       "..       ...            ...               ...           ...  \n",
       "161    16.50           68.8              2.34        1380.0  \n",
       "162     2.62           63.0              3.50        2970.0  \n",
       "164    12.10           73.1              1.95        1310.0  \n",
       "165    23.60           67.5              4.67        1310.0  \n",
       "166    14.00           52.0              5.40        1460.0  \n",
       "\n",
       "[112 rows x 10 columns]"
      ]
     },
     "execution_count": 404,
     "metadata": {},
     "output_type": "execute_result"
    }
   ],
   "source": [
    "df4 = remove_outlier(df3)\n",
    "\n",
    "df4.dropna(axis=0, inplace=True)\n",
    "df4"
   ]
  },
  {
   "cell_type": "code",
   "execution_count": 405,
   "id": "463794e7",
   "metadata": {},
   "outputs": [],
   "source": [
    "def finding_outlier(df4):\n",
    "  Q1 = df4.quantile(0.25)\n",
    "  Q3 = df4.quantile(0.75)\n",
    "  IQR  = Q3-Q1\n",
    "  df_final = df4[(df4<(Q1-(1.5*IQR))) | (df4>(Q3+(1.5*IQR)))]\n",
    "  return df_final"
   ]
  },
  {
   "cell_type": "code",
   "execution_count": 406,
   "id": "453e1b12",
   "metadata": {},
   "outputs": [
    {
     "name": "stdout",
     "output_type": "stream",
     "text": [
      "51    14600.0\n",
      "Name: GDPperkapita, dtype: float64\n"
     ]
    }
   ],
   "source": [
    "print(finding_outlier(df4['GDPperkapita']))"
   ]
  },
  {
   "cell_type": "code",
   "execution_count": 407,
   "id": "8ba6ce18",
   "metadata": {},
   "outputs": [
    {
     "data": {
      "text/html": [
       "<div>\n",
       "<style scoped>\n",
       "    .dataframe tbody tr th:only-of-type {\n",
       "        vertical-align: middle;\n",
       "    }\n",
       "\n",
       "    .dataframe tbody tr th {\n",
       "        vertical-align: top;\n",
       "    }\n",
       "\n",
       "    .dataframe thead th {\n",
       "        text-align: right;\n",
       "    }\n",
       "</style>\n",
       "<table border=\"1\" class=\"dataframe\">\n",
       "  <thead>\n",
       "    <tr style=\"text-align: right;\">\n",
       "      <th></th>\n",
       "      <th>Negara</th>\n",
       "      <th>Kematian_anak</th>\n",
       "      <th>Ekspor</th>\n",
       "      <th>Kesehatan</th>\n",
       "      <th>Impor</th>\n",
       "      <th>Pendapatan</th>\n",
       "      <th>Inflasi</th>\n",
       "      <th>Harapan_hidup</th>\n",
       "      <th>Jumlah_fertiliti</th>\n",
       "      <th>GDPperkapita</th>\n",
       "    </tr>\n",
       "  </thead>\n",
       "  <tbody>\n",
       "    <tr>\n",
       "      <th>0</th>\n",
       "      <td>Afghanistan</td>\n",
       "      <td>90.2</td>\n",
       "      <td>10.0</td>\n",
       "      <td>7.58</td>\n",
       "      <td>44.9</td>\n",
       "      <td>1610.0</td>\n",
       "      <td>9.44</td>\n",
       "      <td>56.2</td>\n",
       "      <td>5.82</td>\n",
       "      <td>553.0</td>\n",
       "    </tr>\n",
       "    <tr>\n",
       "      <th>1</th>\n",
       "      <td>Albania</td>\n",
       "      <td>16.6</td>\n",
       "      <td>28.0</td>\n",
       "      <td>6.55</td>\n",
       "      <td>48.6</td>\n",
       "      <td>9930.0</td>\n",
       "      <td>4.49</td>\n",
       "      <td>76.3</td>\n",
       "      <td>1.65</td>\n",
       "      <td>4090.0</td>\n",
       "    </tr>\n",
       "    <tr>\n",
       "      <th>2</th>\n",
       "      <td>Algeria</td>\n",
       "      <td>27.3</td>\n",
       "      <td>38.4</td>\n",
       "      <td>4.17</td>\n",
       "      <td>31.4</td>\n",
       "      <td>12900.0</td>\n",
       "      <td>16.10</td>\n",
       "      <td>76.5</td>\n",
       "      <td>2.89</td>\n",
       "      <td>4460.0</td>\n",
       "    </tr>\n",
       "    <tr>\n",
       "      <th>3</th>\n",
       "      <td>Angola</td>\n",
       "      <td>119.0</td>\n",
       "      <td>62.3</td>\n",
       "      <td>2.85</td>\n",
       "      <td>42.9</td>\n",
       "      <td>5900.0</td>\n",
       "      <td>22.40</td>\n",
       "      <td>60.1</td>\n",
       "      <td>6.16</td>\n",
       "      <td>3530.0</td>\n",
       "    </tr>\n",
       "    <tr>\n",
       "      <th>4</th>\n",
       "      <td>Antigua and Barbuda</td>\n",
       "      <td>10.3</td>\n",
       "      <td>45.5</td>\n",
       "      <td>6.03</td>\n",
       "      <td>58.9</td>\n",
       "      <td>19100.0</td>\n",
       "      <td>1.44</td>\n",
       "      <td>76.8</td>\n",
       "      <td>2.13</td>\n",
       "      <td>12200.0</td>\n",
       "    </tr>\n",
       "    <tr>\n",
       "      <th>...</th>\n",
       "      <td>...</td>\n",
       "      <td>...</td>\n",
       "      <td>...</td>\n",
       "      <td>...</td>\n",
       "      <td>...</td>\n",
       "      <td>...</td>\n",
       "      <td>...</td>\n",
       "      <td>...</td>\n",
       "      <td>...</td>\n",
       "      <td>...</td>\n",
       "    </tr>\n",
       "    <tr>\n",
       "      <th>161</th>\n",
       "      <td>Uzbekistan</td>\n",
       "      <td>36.3</td>\n",
       "      <td>31.7</td>\n",
       "      <td>5.81</td>\n",
       "      <td>28.5</td>\n",
       "      <td>4240.0</td>\n",
       "      <td>16.50</td>\n",
       "      <td>68.8</td>\n",
       "      <td>2.34</td>\n",
       "      <td>1380.0</td>\n",
       "    </tr>\n",
       "    <tr>\n",
       "      <th>162</th>\n",
       "      <td>Vanuatu</td>\n",
       "      <td>29.2</td>\n",
       "      <td>46.6</td>\n",
       "      <td>5.25</td>\n",
       "      <td>52.7</td>\n",
       "      <td>2950.0</td>\n",
       "      <td>2.62</td>\n",
       "      <td>63.0</td>\n",
       "      <td>3.50</td>\n",
       "      <td>2970.0</td>\n",
       "    </tr>\n",
       "    <tr>\n",
       "      <th>164</th>\n",
       "      <td>Vietnam</td>\n",
       "      <td>23.3</td>\n",
       "      <td>72.0</td>\n",
       "      <td>6.84</td>\n",
       "      <td>80.2</td>\n",
       "      <td>4490.0</td>\n",
       "      <td>12.10</td>\n",
       "      <td>73.1</td>\n",
       "      <td>1.95</td>\n",
       "      <td>1310.0</td>\n",
       "    </tr>\n",
       "    <tr>\n",
       "      <th>165</th>\n",
       "      <td>Yemen</td>\n",
       "      <td>56.3</td>\n",
       "      <td>30.0</td>\n",
       "      <td>5.18</td>\n",
       "      <td>34.4</td>\n",
       "      <td>4480.0</td>\n",
       "      <td>23.60</td>\n",
       "      <td>67.5</td>\n",
       "      <td>4.67</td>\n",
       "      <td>1310.0</td>\n",
       "    </tr>\n",
       "    <tr>\n",
       "      <th>166</th>\n",
       "      <td>Zambia</td>\n",
       "      <td>83.1</td>\n",
       "      <td>37.0</td>\n",
       "      <td>5.89</td>\n",
       "      <td>30.9</td>\n",
       "      <td>3280.0</td>\n",
       "      <td>14.00</td>\n",
       "      <td>52.0</td>\n",
       "      <td>5.40</td>\n",
       "      <td>1460.0</td>\n",
       "    </tr>\n",
       "  </tbody>\n",
       "</table>\n",
       "<p>108 rows × 10 columns</p>\n",
       "</div>"
      ],
      "text/plain": [
       "                  Negara  Kematian_anak  Ekspor  Kesehatan  Impor  Pendapatan  \\\n",
       "0            Afghanistan           90.2    10.0       7.58   44.9      1610.0   \n",
       "1                Albania           16.6    28.0       6.55   48.6      9930.0   \n",
       "2                Algeria           27.3    38.4       4.17   31.4     12900.0   \n",
       "3                 Angola          119.0    62.3       2.85   42.9      5900.0   \n",
       "4    Antigua and Barbuda           10.3    45.5       6.03   58.9     19100.0   \n",
       "..                   ...            ...     ...        ...    ...         ...   \n",
       "161           Uzbekistan           36.3    31.7       5.81   28.5      4240.0   \n",
       "162              Vanuatu           29.2    46.6       5.25   52.7      2950.0   \n",
       "164              Vietnam           23.3    72.0       6.84   80.2      4490.0   \n",
       "165                Yemen           56.3    30.0       5.18   34.4      4480.0   \n",
       "166               Zambia           83.1    37.0       5.89   30.9      3280.0   \n",
       "\n",
       "     Inflasi  Harapan_hidup  Jumlah_fertiliti  GDPperkapita  \n",
       "0       9.44           56.2              5.82         553.0  \n",
       "1       4.49           76.3              1.65        4090.0  \n",
       "2      16.10           76.5              2.89        4460.0  \n",
       "3      22.40           60.1              6.16        3530.0  \n",
       "4       1.44           76.8              2.13       12200.0  \n",
       "..       ...            ...               ...           ...  \n",
       "161    16.50           68.8              2.34        1380.0  \n",
       "162     2.62           63.0              3.50        2970.0  \n",
       "164    12.10           73.1              1.95        1310.0  \n",
       "165    23.60           67.5              4.67        1310.0  \n",
       "166    14.00           52.0              5.40        1460.0  \n",
       "\n",
       "[108 rows x 10 columns]"
      ]
     },
     "execution_count": 407,
     "metadata": {},
     "output_type": "execute_result"
    }
   ],
   "source": [
    "df5 = remove_outlier(df4)\n",
    "\n",
    "df5.dropna(axis=0, inplace=True)\n",
    "df5"
   ]
  },
  {
   "cell_type": "code",
   "execution_count": 408,
   "id": "ae62e560",
   "metadata": {},
   "outputs": [
    {
     "data": {
      "text/plain": [
       "<AxesSubplot:xlabel='GDPperkapita'>"
      ]
     },
     "execution_count": 408,
     "metadata": {},
     "output_type": "execute_result"
    },
    {
     "data": {
      "image/png": "[encoded data removed]",
      "text/plain": [
       "<Figure size 432x288 with 1 Axes>"
      ]
     },
     "metadata": {
      "needs_background": "light"
     },
     "output_type": "display_data"
    }
   ],
   "source": [
    "sns.boxplot('GDPperkapita', data=df5)"
   ]
  },
  {
   "cell_type": "code",
   "execution_count": 489,
   "id": "f0792288",
   "metadata": {},
   "outputs": [
    {
     "data": {
      "text/html": [
       "<div>\n",
       "<style scoped>\n",
       "    .dataframe tbody tr th:only-of-type {\n",
       "        vertical-align: middle;\n",
       "    }\n",
       "\n",
       "    .dataframe tbody tr th {\n",
       "        vertical-align: top;\n",
       "    }\n",
       "\n",
       "    .dataframe thead th {\n",
       "        text-align: right;\n",
       "    }\n",
       "</style>\n",
       "<table border=\"1\" class=\"dataframe\">\n",
       "  <thead>\n",
       "    <tr style=\"text-align: right;\">\n",
       "      <th></th>\n",
       "      <th>Negara</th>\n",
       "      <th>Kematian_anak</th>\n",
       "      <th>Ekspor</th>\n",
       "      <th>Kesehatan</th>\n",
       "      <th>Impor</th>\n",
       "      <th>Pendapatan</th>\n",
       "      <th>Inflasi</th>\n",
       "      <th>Harapan_hidup</th>\n",
       "      <th>Jumlah_fertiliti</th>\n",
       "      <th>GDPperkapita</th>\n",
       "    </tr>\n",
       "  </thead>\n",
       "  <tbody>\n",
       "    <tr>\n",
       "      <th>0</th>\n",
       "      <td>Afghanistan</td>\n",
       "      <td>90.2</td>\n",
       "      <td>10.0</td>\n",
       "      <td>7.58</td>\n",
       "      <td>44.9</td>\n",
       "      <td>1610.0</td>\n",
       "      <td>9.44</td>\n",
       "      <td>56.2</td>\n",
       "      <td>5.82</td>\n",
       "      <td>553.0</td>\n",
       "    </tr>\n",
       "    <tr>\n",
       "      <th>1</th>\n",
       "      <td>Albania</td>\n",
       "      <td>16.6</td>\n",
       "      <td>28.0</td>\n",
       "      <td>6.55</td>\n",
       "      <td>48.6</td>\n",
       "      <td>9930.0</td>\n",
       "      <td>4.49</td>\n",
       "      <td>76.3</td>\n",
       "      <td>1.65</td>\n",
       "      <td>4090.0</td>\n",
       "    </tr>\n",
       "    <tr>\n",
       "      <th>2</th>\n",
       "      <td>Algeria</td>\n",
       "      <td>27.3</td>\n",
       "      <td>38.4</td>\n",
       "      <td>4.17</td>\n",
       "      <td>31.4</td>\n",
       "      <td>12900.0</td>\n",
       "      <td>16.10</td>\n",
       "      <td>76.5</td>\n",
       "      <td>2.89</td>\n",
       "      <td>4460.0</td>\n",
       "    </tr>\n",
       "    <tr>\n",
       "      <th>3</th>\n",
       "      <td>Angola</td>\n",
       "      <td>119.0</td>\n",
       "      <td>62.3</td>\n",
       "      <td>2.85</td>\n",
       "      <td>42.9</td>\n",
       "      <td>5900.0</td>\n",
       "      <td>22.40</td>\n",
       "      <td>60.1</td>\n",
       "      <td>6.16</td>\n",
       "      <td>3530.0</td>\n",
       "    </tr>\n",
       "    <tr>\n",
       "      <th>4</th>\n",
       "      <td>Antigua and Barbuda</td>\n",
       "      <td>10.3</td>\n",
       "      <td>45.5</td>\n",
       "      <td>6.03</td>\n",
       "      <td>58.9</td>\n",
       "      <td>19100.0</td>\n",
       "      <td>1.44</td>\n",
       "      <td>76.8</td>\n",
       "      <td>2.13</td>\n",
       "      <td>12200.0</td>\n",
       "    </tr>\n",
       "    <tr>\n",
       "      <th>...</th>\n",
       "      <td>...</td>\n",
       "      <td>...</td>\n",
       "      <td>...</td>\n",
       "      <td>...</td>\n",
       "      <td>...</td>\n",
       "      <td>...</td>\n",
       "      <td>...</td>\n",
       "      <td>...</td>\n",
       "      <td>...</td>\n",
       "      <td>...</td>\n",
       "    </tr>\n",
       "    <tr>\n",
       "      <th>161</th>\n",
       "      <td>Uzbekistan</td>\n",
       "      <td>36.3</td>\n",
       "      <td>31.7</td>\n",
       "      <td>5.81</td>\n",
       "      <td>28.5</td>\n",
       "      <td>4240.0</td>\n",
       "      <td>16.50</td>\n",
       "      <td>68.8</td>\n",
       "      <td>2.34</td>\n",
       "      <td>1380.0</td>\n",
       "    </tr>\n",
       "    <tr>\n",
       "      <th>162</th>\n",
       "      <td>Vanuatu</td>\n",
       "      <td>29.2</td>\n",
       "      <td>46.6</td>\n",
       "      <td>5.25</td>\n",
       "      <td>52.7</td>\n",
       "      <td>2950.0</td>\n",
       "      <td>2.62</td>\n",
       "      <td>63.0</td>\n",
       "      <td>3.50</td>\n",
       "      <td>2970.0</td>\n",
       "    </tr>\n",
       "    <tr>\n",
       "      <th>164</th>\n",
       "      <td>Vietnam</td>\n",
       "      <td>23.3</td>\n",
       "      <td>72.0</td>\n",
       "      <td>6.84</td>\n",
       "      <td>80.2</td>\n",
       "      <td>4490.0</td>\n",
       "      <td>12.10</td>\n",
       "      <td>73.1</td>\n",
       "      <td>1.95</td>\n",
       "      <td>1310.0</td>\n",
       "    </tr>\n",
       "    <tr>\n",
       "      <th>165</th>\n",
       "      <td>Yemen</td>\n",
       "      <td>56.3</td>\n",
       "      <td>30.0</td>\n",
       "      <td>5.18</td>\n",
       "      <td>34.4</td>\n",
       "      <td>4480.0</td>\n",
       "      <td>23.60</td>\n",
       "      <td>67.5</td>\n",
       "      <td>4.67</td>\n",
       "      <td>1310.0</td>\n",
       "    </tr>\n",
       "    <tr>\n",
       "      <th>166</th>\n",
       "      <td>Zambia</td>\n",
       "      <td>83.1</td>\n",
       "      <td>37.0</td>\n",
       "      <td>5.89</td>\n",
       "      <td>30.9</td>\n",
       "      <td>3280.0</td>\n",
       "      <td>14.00</td>\n",
       "      <td>52.0</td>\n",
       "      <td>5.40</td>\n",
       "      <td>1460.0</td>\n",
       "    </tr>\n",
       "  </tbody>\n",
       "</table>\n",
       "<p>108 rows × 10 columns</p>\n",
       "</div>"
      ],
      "text/plain": [
       "                  Negara  Kematian_anak  Ekspor  Kesehatan  Impor  Pendapatan  \\\n",
       "0            Afghanistan           90.2    10.0       7.58   44.9      1610.0   \n",
       "1                Albania           16.6    28.0       6.55   48.6      9930.0   \n",
       "2                Algeria           27.3    38.4       4.17   31.4     12900.0   \n",
       "3                 Angola          119.0    62.3       2.85   42.9      5900.0   \n",
       "4    Antigua and Barbuda           10.3    45.5       6.03   58.9     19100.0   \n",
       "..                   ...            ...     ...        ...    ...         ...   \n",
       "161           Uzbekistan           36.3    31.7       5.81   28.5      4240.0   \n",
       "162              Vanuatu           29.2    46.6       5.25   52.7      2950.0   \n",
       "164              Vietnam           23.3    72.0       6.84   80.2      4490.0   \n",
       "165                Yemen           56.3    30.0       5.18   34.4      4480.0   \n",
       "166               Zambia           83.1    37.0       5.89   30.9      3280.0   \n",
       "\n",
       "     Inflasi  Harapan_hidup  Jumlah_fertiliti  GDPperkapita  \n",
       "0       9.44           56.2              5.82         553.0  \n",
       "1       4.49           76.3              1.65        4090.0  \n",
       "2      16.10           76.5              2.89        4460.0  \n",
       "3      22.40           60.1              6.16        3530.0  \n",
       "4       1.44           76.8              2.13       12200.0  \n",
       "..       ...            ...               ...           ...  \n",
       "161    16.50           68.8              2.34        1380.0  \n",
       "162     2.62           63.0              3.50        2970.0  \n",
       "164    12.10           73.1              1.95        1310.0  \n",
       "165    23.60           67.5              4.67        1310.0  \n",
       "166    14.00           52.0              5.40        1460.0  \n",
       "\n",
       "[108 rows x 10 columns]"
      ]
     },
     "execution_count": 489,
     "metadata": {},
     "output_type": "execute_result"
    }
   ],
   "source": [
    "df5"
   ]
  },
  {
   "cell_type": "code",
   "execution_count": 490,
   "id": "bb10a8e9",
   "metadata": {},
   "outputs": [
    {
     "data": {
      "text/html": [
       "<div>\n",
       "<style scoped>\n",
       "    .dataframe tbody tr th:only-of-type {\n",
       "        vertical-align: middle;\n",
       "    }\n",
       "\n",
       "    .dataframe tbody tr th {\n",
       "        vertical-align: top;\n",
       "    }\n",
       "\n",
       "    .dataframe thead th {\n",
       "        text-align: right;\n",
       "    }\n",
       "</style>\n",
       "<table border=\"1\" class=\"dataframe\">\n",
       "  <thead>\n",
       "    <tr style=\"text-align: right;\">\n",
       "      <th></th>\n",
       "      <th>Kematian_anak</th>\n",
       "      <th>Ekspor</th>\n",
       "      <th>Kesehatan</th>\n",
       "      <th>Impor</th>\n",
       "      <th>Pendapatan</th>\n",
       "      <th>Inflasi</th>\n",
       "      <th>Harapan_hidup</th>\n",
       "      <th>Jumlah_fertiliti</th>\n",
       "      <th>GDPperkapita</th>\n",
       "    </tr>\n",
       "  </thead>\n",
       "  <tbody>\n",
       "    <tr>\n",
       "      <th>0</th>\n",
       "      <td>90.2</td>\n",
       "      <td>10.0</td>\n",
       "      <td>7.58</td>\n",
       "      <td>44.9</td>\n",
       "      <td>1610.0</td>\n",
       "      <td>9.44</td>\n",
       "      <td>56.2</td>\n",
       "      <td>5.82</td>\n",
       "      <td>553.0</td>\n",
       "    </tr>\n",
       "    <tr>\n",
       "      <th>1</th>\n",
       "      <td>16.6</td>\n",
       "      <td>28.0</td>\n",
       "      <td>6.55</td>\n",
       "      <td>48.6</td>\n",
       "      <td>9930.0</td>\n",
       "      <td>4.49</td>\n",
       "      <td>76.3</td>\n",
       "      <td>1.65</td>\n",
       "      <td>4090.0</td>\n",
       "    </tr>\n",
       "    <tr>\n",
       "      <th>2</th>\n",
       "      <td>27.3</td>\n",
       "      <td>38.4</td>\n",
       "      <td>4.17</td>\n",
       "      <td>31.4</td>\n",
       "      <td>12900.0</td>\n",
       "      <td>16.10</td>\n",
       "      <td>76.5</td>\n",
       "      <td>2.89</td>\n",
       "      <td>4460.0</td>\n",
       "    </tr>\n",
       "    <tr>\n",
       "      <th>3</th>\n",
       "      <td>119.0</td>\n",
       "      <td>62.3</td>\n",
       "      <td>2.85</td>\n",
       "      <td>42.9</td>\n",
       "      <td>5900.0</td>\n",
       "      <td>22.40</td>\n",
       "      <td>60.1</td>\n",
       "      <td>6.16</td>\n",
       "      <td>3530.0</td>\n",
       "    </tr>\n",
       "    <tr>\n",
       "      <th>4</th>\n",
       "      <td>10.3</td>\n",
       "      <td>45.5</td>\n",
       "      <td>6.03</td>\n",
       "      <td>58.9</td>\n",
       "      <td>19100.0</td>\n",
       "      <td>1.44</td>\n",
       "      <td>76.8</td>\n",
       "      <td>2.13</td>\n",
       "      <td>12200.0</td>\n",
       "    </tr>\n",
       "    <tr>\n",
       "      <th>...</th>\n",
       "      <td>...</td>\n",
       "      <td>...</td>\n",
       "      <td>...</td>\n",
       "      <td>...</td>\n",
       "      <td>...</td>\n",
       "      <td>...</td>\n",
       "      <td>...</td>\n",
       "      <td>...</td>\n",
       "      <td>...</td>\n",
       "    </tr>\n",
       "    <tr>\n",
       "      <th>161</th>\n",
       "      <td>36.3</td>\n",
       "      <td>31.7</td>\n",
       "      <td>5.81</td>\n",
       "      <td>28.5</td>\n",
       "      <td>4240.0</td>\n",
       "      <td>16.50</td>\n",
       "      <td>68.8</td>\n",
       "      <td>2.34</td>\n",
       "      <td>1380.0</td>\n",
       "    </tr>\n",
       "    <tr>\n",
       "      <th>162</th>\n",
       "      <td>29.2</td>\n",
       "      <td>46.6</td>\n",
       "      <td>5.25</td>\n",
       "      <td>52.7</td>\n",
       "      <td>2950.0</td>\n",
       "      <td>2.62</td>\n",
       "      <td>63.0</td>\n",
       "      <td>3.50</td>\n",
       "      <td>2970.0</td>\n",
       "    </tr>\n",
       "    <tr>\n",
       "      <th>164</th>\n",
       "      <td>23.3</td>\n",
       "      <td>72.0</td>\n",
       "      <td>6.84</td>\n",
       "      <td>80.2</td>\n",
       "      <td>4490.0</td>\n",
       "      <td>12.10</td>\n",
       "      <td>73.1</td>\n",
       "      <td>1.95</td>\n",
       "      <td>1310.0</td>\n",
       "    </tr>\n",
       "    <tr>\n",
       "      <th>165</th>\n",
       "      <td>56.3</td>\n",
       "      <td>30.0</td>\n",
       "      <td>5.18</td>\n",
       "      <td>34.4</td>\n",
       "      <td>4480.0</td>\n",
       "      <td>23.60</td>\n",
       "      <td>67.5</td>\n",
       "      <td>4.67</td>\n",
       "      <td>1310.0</td>\n",
       "    </tr>\n",
       "    <tr>\n",
       "      <th>166</th>\n",
       "      <td>83.1</td>\n",
       "      <td>37.0</td>\n",
       "      <td>5.89</td>\n",
       "      <td>30.9</td>\n",
       "      <td>3280.0</td>\n",
       "      <td>14.00</td>\n",
       "      <td>52.0</td>\n",
       "      <td>5.40</td>\n",
       "      <td>1460.0</td>\n",
       "    </tr>\n",
       "  </tbody>\n",
       "</table>\n",
       "<p>108 rows × 9 columns</p>\n",
       "</div>"
      ],
      "text/plain": [
       "     Kematian_anak  Ekspor  Kesehatan  Impor  Pendapatan  Inflasi  \\\n",
       "0             90.2    10.0       7.58   44.9      1610.0     9.44   \n",
       "1             16.6    28.0       6.55   48.6      9930.0     4.49   \n",
       "2             27.3    38.4       4.17   31.4     12900.0    16.10   \n",
       "3            119.0    62.3       2.85   42.9      5900.0    22.40   \n",
       "4             10.3    45.5       6.03   58.9     19100.0     1.44   \n",
       "..             ...     ...        ...    ...         ...      ...   \n",
       "161           36.3    31.7       5.81   28.5      4240.0    16.50   \n",
       "162           29.2    46.6       5.25   52.7      2950.0     2.62   \n",
       "164           23.3    72.0       6.84   80.2      4490.0    12.10   \n",
       "165           56.3    30.0       5.18   34.4      4480.0    23.60   \n",
       "166           83.1    37.0       5.89   30.9      3280.0    14.00   \n",
       "\n",
       "     Harapan_hidup  Jumlah_fertiliti  GDPperkapita  \n",
       "0             56.2              5.82         553.0  \n",
       "1             76.3              1.65        4090.0  \n",
       "2             76.5              2.89        4460.0  \n",
       "3             60.1              6.16        3530.0  \n",
       "4             76.8              2.13       12200.0  \n",
       "..             ...               ...           ...  \n",
       "161           68.8              2.34        1380.0  \n",
       "162           63.0              3.50        2970.0  \n",
       "164           73.1              1.95        1310.0  \n",
       "165           67.5              4.67        1310.0  \n",
       "166           52.0              5.40        1460.0  \n",
       "\n",
       "[108 rows x 9 columns]"
      ]
     },
     "execution_count": 490,
     "metadata": {},
     "output_type": "execute_result"
    }
   ],
   "source": [
    "df6 = df5.iloc[:, 1:]\n",
    "df6"
   ]
  },
  {
   "cell_type": "markdown",
   "id": "9d85f558",
   "metadata": {},
   "source": [
    "# FEATURE SELECTION"
   ]
  },
  {
   "cell_type": "markdown",
   "id": "e6b4c7b1",
   "metadata": {},
   "source": [
    "Feature Selection merupakan metode yang digunakan untuk mengurangi jumlah variabel input atau feature menjadi feature yang diyakini paling berguna bagi model untuk memprediksi variabel atau feature target. Tujuannya adalah untuk menemukan kumpulan feature terbaik yang bisa membangun model yang berguna dari fenomena yang dipelajari. Adapun feature yang dihilangkan adalah feature yang tidak relevan, berlebihan, atau noise. Pada kasus ini, saya memilih feature yang korelasinya sangat kuat dimana rentang nilainya antara -1 hingga 1."
   ]
  },
  {
   "cell_type": "code",
   "execution_count": 491,
   "id": "2982a43f",
   "metadata": {},
   "outputs": [
    {
     "data": {
      "image/png": "[encoded data removed]",
      "text/plain": [
       "<Figure size 864x576 with 2 Axes>"
      ]
     },
     "metadata": {
      "needs_background": "light"
     },
     "output_type": "display_data"
    }
   ],
   "source": [
    "plt.figure(figsize=(12,8))\n",
    "sns.heatmap(df6.corr(), annot=True, fmt='.2g');"
   ]
  },
  {
   "cell_type": "code",
   "execution_count": 492,
   "id": "504c57b6",
   "metadata": {},
   "outputs": [
    {
     "data": {
      "text/html": [
       "<div>\n",
       "<style scoped>\n",
       "    .dataframe tbody tr th:only-of-type {\n",
       "        vertical-align: middle;\n",
       "    }\n",
       "\n",
       "    .dataframe tbody tr th {\n",
       "        vertical-align: top;\n",
       "    }\n",
       "\n",
       "    .dataframe thead th {\n",
       "        text-align: right;\n",
       "    }\n",
       "</style>\n",
       "<table border=\"1\" class=\"dataframe\">\n",
       "  <thead>\n",
       "    <tr style=\"text-align: right;\">\n",
       "      <th></th>\n",
       "      <th>Kematian_anak</th>\n",
       "      <th>Jumlah_fertiliti</th>\n",
       "    </tr>\n",
       "  </thead>\n",
       "  <tbody>\n",
       "    <tr>\n",
       "      <th>0</th>\n",
       "      <td>90.2</td>\n",
       "      <td>5.82</td>\n",
       "    </tr>\n",
       "    <tr>\n",
       "      <th>1</th>\n",
       "      <td>16.6</td>\n",
       "      <td>1.65</td>\n",
       "    </tr>\n",
       "    <tr>\n",
       "      <th>2</th>\n",
       "      <td>27.3</td>\n",
       "      <td>2.89</td>\n",
       "    </tr>\n",
       "    <tr>\n",
       "      <th>3</th>\n",
       "      <td>119.0</td>\n",
       "      <td>6.16</td>\n",
       "    </tr>\n",
       "    <tr>\n",
       "      <th>4</th>\n",
       "      <td>10.3</td>\n",
       "      <td>2.13</td>\n",
       "    </tr>\n",
       "    <tr>\n",
       "      <th>...</th>\n",
       "      <td>...</td>\n",
       "      <td>...</td>\n",
       "    </tr>\n",
       "    <tr>\n",
       "      <th>161</th>\n",
       "      <td>36.3</td>\n",
       "      <td>2.34</td>\n",
       "    </tr>\n",
       "    <tr>\n",
       "      <th>162</th>\n",
       "      <td>29.2</td>\n",
       "      <td>3.50</td>\n",
       "    </tr>\n",
       "    <tr>\n",
       "      <th>164</th>\n",
       "      <td>23.3</td>\n",
       "      <td>1.95</td>\n",
       "    </tr>\n",
       "    <tr>\n",
       "      <th>165</th>\n",
       "      <td>56.3</td>\n",
       "      <td>4.67</td>\n",
       "    </tr>\n",
       "    <tr>\n",
       "      <th>166</th>\n",
       "      <td>83.1</td>\n",
       "      <td>5.40</td>\n",
       "    </tr>\n",
       "  </tbody>\n",
       "</table>\n",
       "<p>108 rows × 2 columns</p>\n",
       "</div>"
      ],
      "text/plain": [
       "     Kematian_anak  Jumlah_fertiliti\n",
       "0             90.2              5.82\n",
       "1             16.6              1.65\n",
       "2             27.3              2.89\n",
       "3            119.0              6.16\n",
       "4             10.3              2.13\n",
       "..             ...               ...\n",
       "161           36.3              2.34\n",
       "162           29.2              3.50\n",
       "164           23.3              1.95\n",
       "165           56.3              4.67\n",
       "166           83.1              5.40\n",
       "\n",
       "[108 rows x 2 columns]"
      ]
     },
     "execution_count": 492,
     "metadata": {},
     "output_type": "execute_result"
    }
   ],
   "source": [
    "df7 = df6.copy()\n",
    "df7.drop(columns=['Ekspor', 'Kesehatan', 'Impor', 'Inflasi', 'Pendapatan', 'GDPperkapita', 'Harapan_hidup'], inplace=True)\n",
    "df7"
   ]
  },
  {
   "cell_type": "markdown",
   "id": "45031093",
   "metadata": {},
   "source": [
    "Pada kasus ini, saya memilih feature Kematian_anak dan Jumlah_fertiliti, karena memiliki korelasi sebesar 0,88 meskipun terdapat feature lain yang lebih kuat korelasinya, yakni Pendapatan dan GDPPerkapita yakni sebesar 0.95. Alasannya saya jelaskan setelah proses clustering"
   ]
  },
  {
   "cell_type": "code",
   "execution_count": 498,
   "id": "d0b9ead5",
   "metadata": {},
   "outputs": [],
   "source": [
    "from sklearn.neighbors import NearestNeighbors\n",
    "from random import sample\n",
    "from numpy.random import uniform\n",
    "from math import isnan\n",
    "# Calculating Hopkins score to know whether the data is good for clustering or not.\n",
    "\n",
    "def hopkins(X):\n",
    "    d = X.shape[1]\n",
    "    n = len(X)\n",
    "    m = int(0.1 * n) \n",
    "    nbrs = NearestNeighbors(n_neighbors=1).fit(X.values)\n",
    " \n",
    "    rand_X = sample(range(0, n, 1), m)\n",
    " \n",
    "    ujd = []\n",
    "    wjd = []\n",
    "    for j in range(0, m):\n",
    "        u_dist, _ = nbrs.kneighbors(uniform(np.amin(X,axis=0),np.amax(X,axis=0),d).reshape(1, -1), 2, return_distance=True)\n",
    "        ujd.append(u_dist[0][1])\n",
    "        w_dist, _ = nbrs.kneighbors(X.iloc[rand_X[j]].values.reshape(1, -1), 2, return_distance=True)\n",
    "        wjd.append(w_dist[0][1])\n",
    " \n",
    "    HS = sum(ujd) / (sum(ujd) + sum(wjd))\n",
    "    if isnan(HS):\n",
    "        print(ujd, wjd)\n",
    "        HS = 0\n",
    " \n",
    "    return HS"
   ]
  },
  {
   "cell_type": "code",
   "execution_count": 501,
   "id": "e621870d",
   "metadata": {},
   "outputs": [],
   "source": [
    "# Hopkins score\n",
    "Hopkins_score=round(hopkins(df7),2)"
   ]
  },
  {
   "cell_type": "code",
   "execution_count": 502,
   "id": "d44b0662",
   "metadata": {},
   "outputs": [
    {
     "data": {
      "text/plain": [
       "0.74"
      ]
     },
     "execution_count": 502,
     "metadata": {},
     "output_type": "execute_result"
    }
   ],
   "source": [
    "Hopkins_score"
   ]
  },
  {
   "cell_type": "markdown",
   "id": "21cde246",
   "metadata": {},
   "source": [
    "Berdasarkan Hopkins score, dataset ini layak untuk dibuat Clustering karena > 0.5"
   ]
  },
  {
   "cell_type": "markdown",
   "id": "1c9cd659",
   "metadata": {},
   "source": [
    "# FEATURE SCALLING"
   ]
  },
  {
   "cell_type": "markdown",
   "id": "2e2f831a",
   "metadata": {},
   "source": [
    "Feature scaling merupakan sebuah teknik untuk membuat semua feature pada dataset mempunyai rentang nilai yang sama. salah satu teknik feature scaling yang populer adalah standardization, atau membuat range feature antara -1 sampai 1."
   ]
  },
  {
   "cell_type": "code",
   "execution_count": 503,
   "id": "5db0dd40",
   "metadata": {},
   "outputs": [
    {
     "data": {
      "text/plain": [
       "array([[ 1.4917508 ,  1.90843789],\n",
       "       [-0.77331678, -1.04288443],\n",
       "       [-0.44402027, -0.165273  ],\n",
       "       [ 2.3780816 ,  2.14907328],\n",
       "       [-0.96720164, -0.70316388],\n",
       "       [-0.83794507, -0.5333036 ],\n",
       "       [-0.72715372, -1.01457439],\n",
       "       [-0.07779331, -0.85179162],\n",
       "       [ 0.23611551, -0.56161365],\n",
       "       [-1.11492344, -1.15612462],\n",
       "       [-0.70561095, -0.29266821],\n",
       "       [ 2.1318786 ,  1.58287235],\n",
       "       [ 0.0299205 , -0.52622609],\n",
       "       [ 0.14994446,  0.05412986],\n",
       "       [-1.07183791, -1.28351983],\n",
       "       [ 0.33151918, -0.17235051],\n",
       "       [-0.67483558, -0.93672176],\n",
       "       [-0.95181395, -1.09950453],\n",
       "       [ 2.28575547,  1.94382544],\n",
       "       [ 0.08223864, -0.17235051],\n",
       "       [ 2.03955248,  1.40593456],\n",
       "       [-0.46864057, -0.32097826],\n",
       "       [-1.01644224, -0.88010167],\n",
       "       [-0.80101462, -1.0853495 ],\n",
       "       [-0.71176603, -0.78809402],\n",
       "       [ 1.43020006,  1.15114415],\n",
       "       [ 2.28575547,  2.41801872],\n",
       "       [ 0.68235845,  1.29269438],\n",
       "       [-0.97027918, -0.85179162],\n",
       "       [ 2.1318786 ,  1.51917475],\n",
       "       [-1.11492344, -1.11365955],\n",
       "       [-0.22551511, -0.37052084],\n",
       "       [-0.51172609, -0.32805577],\n",
       "       [-0.38862459,  0.04705235],\n",
       "       [-0.6933008 , -0.60407872],\n",
       "       [ 0.41461269,  1.05205899],\n",
       "       [-0.54250147, -0.32097826],\n",
       "       [ 0.67620337,  0.67695087],\n",
       "       [ 1.18707459,  1.83058526],\n",
       "       [-0.77639432, -0.85179162],\n",
       "       [ 1.0147325 ,  0.81142359],\n",
       "       [-0.83486753, -0.62531125],\n",
       "       [-0.19473973,  0.18152507],\n",
       "       [ 2.07032785,  1.56871733],\n",
       "       [ 2.22420472,  1.3634695 ],\n",
       "       [-0.12703391, -0.33513328],\n",
       "       [-1.09953575, -1.3259849 ],\n",
       "       [ 0.52540404, -0.37052084],\n",
       "       [-0.25936802, -0.45545098],\n",
       "       [-0.69022327, -0.96503181],\n",
       "       [-0.14857667,  1.01667143],\n",
       "       [-0.72715372, -0.67485383],\n",
       "       [-0.63482759,  0.37969539],\n",
       "       [-0.62251744, -0.37052084],\n",
       "       [ 0.63004031,  0.88219871],\n",
       "       [ 0.645428  ,  0.5070906 ],\n",
       "       [-0.37323691, -0.01664526],\n",
       "       [ 1.14398907,  0.0187423 ],\n",
       "       [-1.04414008, -1.24813227],\n",
       "       [-0.96720164, -1.07119448],\n",
       "       [-1.09645821, -1.14904711],\n",
       "       [-0.9641241 , -1.17027964],\n",
       "       [ 0.63004031,  1.04498148],\n",
       "       [ 1.50098342,  1.5474848 ],\n",
       "       [-1.04106254, -0.68900886],\n",
       "       [-0.87795305, -0.63238876],\n",
       "       [ 1.7133335 ,  1.31392691],\n",
       "       [-0.82255738, -1.09950453],\n",
       "       [-1.07491545, -0.9579543 ],\n",
       "       [-0.25321294, -0.38467586],\n",
       "       [ 1.82412485,  1.72442259],\n",
       "       [ 0.69774614, -0.50499356],\n",
       "       [ 0.43923299,  0.33723032],\n",
       "       [ 0.16225461, -0.36344333],\n",
       "       [ 1.55022402,  0.51416811],\n",
       "       [-0.67791312, -0.35636581],\n",
       "       [-0.54250147, -0.27851319],\n",
       "       [-0.65944789, -0.41298591],\n",
       "       [-0.30245354,  0.02581981],\n",
       "       [-1.09953575, -1.21274471],\n",
       "       [-0.93027119, -1.0853495 ],\n",
       "       [-0.97643425, -1.09950453],\n",
       "       [ 0.67312584,  0.98128387],\n",
       "       [-0.70253342,  0.86096617],\n",
       "       [ 0.77160704,  1.37054701],\n",
       "       [-1.05029515, -1.21982222],\n",
       "       [-0.41939997,  0.79019106],\n",
       "       [ 0.36844963, -0.37759835],\n",
       "       [-0.9395038 , -0.6536213 ],\n",
       "       [-0.64713774, -0.74562895],\n",
       "       [ 1.07628325,  1.2431518 ],\n",
       "       [-0.54250147, -0.42714093],\n",
       "       [ 0.32844164,  0.27353272],\n",
       "       [ 0.92856145,  1.63241493],\n",
       "       [-0.82563492, -1.11365955],\n",
       "       [ 1.49482834,  1.23607429],\n",
       "       [-0.74869648,  0.55663318],\n",
       "       [-0.74869648, -0.69608637],\n",
       "       [-0.69637834, -0.68900886],\n",
       "       [ 0.62388524, -0.20773807],\n",
       "       [ 1.20861736,  2.14199577],\n",
       "       [-0.92411611, -1.19151218],\n",
       "       [-0.95796903, -0.73855144],\n",
       "       [-0.1670419 , -0.55453614],\n",
       "       [-0.38554706,  0.2664552 ],\n",
       "       [-0.56712177, -0.83055909],\n",
       "       [ 0.4484656 ,  1.09452406],\n",
       "       [ 1.27324564,  1.6111824 ]])"
      ]
     },
     "execution_count": 503,
     "metadata": {},
     "output_type": "execute_result"
    }
   ],
   "source": [
    "#feature scaling\n",
    "\n",
    "from sklearn.preprocessing import StandardScaler\n",
    "\n",
    "sc = StandardScaler()\n",
    "df_std = sc.fit_transform(df7.astype(float))\n",
    "df_std"
   ]
  },
  {
   "cell_type": "markdown",
   "id": "9e362c72",
   "metadata": {},
   "source": [
    "# CREATING K MEANS CLUSTERING AND VISUALIZING CLUSTERS"
   ]
  },
  {
   "cell_type": "code",
   "execution_count": 504,
   "id": "4239654a",
   "metadata": {},
   "outputs": [
    {
     "data": {
      "image/png": "[encoded data removed]",
      "text/plain": [
       "<Figure size 432x288 with 1 Axes>"
      ]
     },
     "metadata": {
      "needs_background": "light"
     },
     "output_type": "display_data"
    }
   ],
   "source": [
    "#clustering with KMeans\n",
    "\n",
    "from sklearn.cluster import KMeans\n",
    "\n",
    "inertia = []\n",
    "for i in range(1, 11):\n",
    "    km = KMeans(n_clusters = i, random_state = 42)\n",
    "    km.fit(df_std)\n",
    "    inertia.append(km.inertia_)\n",
    "\n",
    "plt.plot(range(1, 11), inertia)\n",
    "plt.title('The Elbow Method', fontsize = 20)\n",
    "plt.xlabel('No. of Clusters')\n",
    "plt.ylabel('Inertia')\n",
    "\n",
    "plt.show()"
   ]
  },
  {
   "cell_type": "code",
   "execution_count": 513,
   "id": "33857baf",
   "metadata": {},
   "outputs": [
    {
     "data": {
      "image/png": "[encoded data removed]",
      "text/plain": [
       "<Figure size 432x288 with 1 Axes>"
      ]
     },
     "metadata": {
      "needs_background": "light"
     },
     "output_type": "display_data"
    }
   ],
   "source": [
    "# silhouette coefficient\n",
    "# standard: -1 s/d 1 => seberapa bagus model mendefinisikan cluster\n",
    "from sklearn import metrics\n",
    "silhouette_scores = [] \n",
    "\n",
    "for n_cluster in range(2, 9):\n",
    "    silhouette_scores.append( \n",
    "        metrics.silhouette_score(df_std, \n",
    "                                 KMeans(n_clusters = n_cluster).fit_predict(df_std))) \n",
    "    \n",
    "# Plotting a bar graph to compare the results \n",
    "k = [2, 3, 4, 5, 6, 7, 8] \n",
    "plots = sns.barplot(k, silhouette_scores) \n",
    "plt.xlabel('Number of clusters', fontsize = 10) \n",
    "plt.ylabel('Silhouette Score', fontsize = 10) \n",
    "plt.show()"
   ]
  },
  {
   "cell_type": "code",
   "execution_count": 514,
   "id": "1a560aab",
   "metadata": {},
   "outputs": [
    {
     "data": {
      "text/plain": [
       "[0.6366913344606874,\n",
       " 0.5036902770413388,\n",
       " 0.4836396443415245,\n",
       " 0.4831312584688861,\n",
       " 0.47745794757735255,\n",
       " 0.4658001230204536,\n",
       " 0.42349130572307997]"
      ]
     },
     "execution_count": 514,
     "metadata": {},
     "output_type": "execute_result"
    }
   ],
   "source": [
    "from sklearn.metrics import silhouette_score\n",
    "silhouette_scores"
   ]
  },
  {
   "cell_type": "markdown",
   "id": "083f3e4d",
   "metadata": {},
   "source": [
    "Alasan saya memilih feature Kematian_anak dan Jumlah_fertiliti adalah karena performa modelnya lebih baik daripada ketika saya memakai feature Pendapatan dan GDPperkapita, dimana silhouette_scores dari feature Kematian_anak dan Jumlah_fertiliti dengan n_cluster=2 adalah 0,636. Sedangkan silhouette_scores dari feature Pendapatan dan GDPperkapita dengan n_cluster=2 hanya sekitar 0,5."
   ]
  },
  {
   "cell_type": "code",
   "execution_count": 520,
   "id": "5aed4a0e",
   "metadata": {},
   "outputs": [],
   "source": [
    "km = KMeans(n_clusters = 2, random_state = 42)\n",
    "cluster = km.fit_predict(df_std)"
   ]
  },
  {
   "cell_type": "code",
   "execution_count": 521,
   "id": "bf67c175",
   "metadata": {},
   "outputs": [
    {
     "data": {
      "text/plain": [
       "array([[-0.56330562, -0.57189963],\n",
       "       [ 1.28024005,  1.29977189]])"
      ]
     },
     "execution_count": 521,
     "metadata": {},
     "output_type": "execute_result"
    }
   ],
   "source": [
    "# mengetahui posisi centroids\n",
    "center = km.cluster_centers_\n",
    "center"
   ]
  },
  {
   "cell_type": "code",
   "execution_count": 522,
   "id": "94f05c8f",
   "metadata": {},
   "outputs": [
    {
     "data": {
      "text/html": [
       "<div>\n",
       "<style scoped>\n",
       "    .dataframe tbody tr th:only-of-type {\n",
       "        vertical-align: middle;\n",
       "    }\n",
       "\n",
       "    .dataframe tbody tr th {\n",
       "        vertical-align: top;\n",
       "    }\n",
       "\n",
       "    .dataframe thead th {\n",
       "        text-align: right;\n",
       "    }\n",
       "</style>\n",
       "<table border=\"1\" class=\"dataframe\">\n",
       "  <thead>\n",
       "    <tr style=\"text-align: right;\">\n",
       "      <th></th>\n",
       "      <th>Kematian_anak</th>\n",
       "      <th>Jumlah_fertiliti</th>\n",
       "      <th>label1_kmeans</th>\n",
       "    </tr>\n",
       "  </thead>\n",
       "  <tbody>\n",
       "    <tr>\n",
       "      <th>0</th>\n",
       "      <td>1.491751</td>\n",
       "      <td>1.908438</td>\n",
       "      <td>0</td>\n",
       "    </tr>\n",
       "    <tr>\n",
       "      <th>1</th>\n",
       "      <td>-0.773317</td>\n",
       "      <td>-1.042884</td>\n",
       "      <td>1</td>\n",
       "    </tr>\n",
       "    <tr>\n",
       "      <th>2</th>\n",
       "      <td>-0.444020</td>\n",
       "      <td>-0.165273</td>\n",
       "      <td>1</td>\n",
       "    </tr>\n",
       "    <tr>\n",
       "      <th>3</th>\n",
       "      <td>2.378082</td>\n",
       "      <td>2.149073</td>\n",
       "      <td>0</td>\n",
       "    </tr>\n",
       "    <tr>\n",
       "      <th>4</th>\n",
       "      <td>-0.967202</td>\n",
       "      <td>-0.703164</td>\n",
       "      <td>1</td>\n",
       "    </tr>\n",
       "    <tr>\n",
       "      <th>...</th>\n",
       "      <td>...</td>\n",
       "      <td>...</td>\n",
       "      <td>...</td>\n",
       "    </tr>\n",
       "    <tr>\n",
       "      <th>103</th>\n",
       "      <td>-0.167042</td>\n",
       "      <td>-0.554536</td>\n",
       "      <td>0</td>\n",
       "    </tr>\n",
       "    <tr>\n",
       "      <th>104</th>\n",
       "      <td>-0.385547</td>\n",
       "      <td>0.266455</td>\n",
       "      <td>0</td>\n",
       "    </tr>\n",
       "    <tr>\n",
       "      <th>105</th>\n",
       "      <td>-0.567122</td>\n",
       "      <td>-0.830559</td>\n",
       "      <td>1</td>\n",
       "    </tr>\n",
       "    <tr>\n",
       "      <th>106</th>\n",
       "      <td>0.448466</td>\n",
       "      <td>1.094524</td>\n",
       "      <td>0</td>\n",
       "    </tr>\n",
       "    <tr>\n",
       "      <th>107</th>\n",
       "      <td>1.273246</td>\n",
       "      <td>1.611182</td>\n",
       "      <td>0</td>\n",
       "    </tr>\n",
       "  </tbody>\n",
       "</table>\n",
       "<p>108 rows × 3 columns</p>\n",
       "</div>"
      ],
      "text/plain": [
       "     Kematian_anak  Jumlah_fertiliti  label1_kmeans\n",
       "0         1.491751          1.908438              0\n",
       "1        -0.773317         -1.042884              1\n",
       "2        -0.444020         -0.165273              1\n",
       "3         2.378082          2.149073              0\n",
       "4        -0.967202         -0.703164              1\n",
       "..             ...               ...            ...\n",
       "103      -0.167042         -0.554536              0\n",
       "104      -0.385547          0.266455              0\n",
       "105      -0.567122         -0.830559              1\n",
       "106       0.448466          1.094524              0\n",
       "107       1.273246          1.611182              0\n",
       "\n",
       "[108 rows x 3 columns]"
      ]
     },
     "execution_count": 522,
     "metadata": {},
     "output_type": "execute_result"
    }
   ],
   "source": [
    "new_df = pd.DataFrame(data=df_std, columns=['Kematian_anak', 'Jumlah_fertiliti'])\n",
    "new_df['label1_kmeans'] = labels1\n",
    "new_df"
   ]
  },
  {
   "cell_type": "code",
   "execution_count": 523,
   "id": "9d4d0e03",
   "metadata": {},
   "outputs": [
    {
     "data": {
      "image/png": "[encoded data removed]",
      "text/plain": [
       "<Figure size 1080x576 with 1 Axes>"
      ]
     },
     "metadata": {
      "needs_background": "light"
     },
     "output_type": "display_data"
    }
   ],
   "source": [
    "plt.figure(figsize=(15,8))\n",
    "sns.scatterplot(data=new_df, x='Jumlah_fertiliti',y='Kematian_anak', hue='label1_kmeans', palette='tab10')\n",
    "plt.title('K Means Clustering (K=2)', fontsize = 20)\n",
    "plt.legend()\n",
    "plt.show()"
   ]
  },
  {
   "cell_type": "code",
   "execution_count": 481,
   "id": "b6136371",
   "metadata": {},
   "outputs": [
    {
     "data": {
      "text/html": [
       "<div>\n",
       "<style scoped>\n",
       "    .dataframe tbody tr th:only-of-type {\n",
       "        vertical-align: middle;\n",
       "    }\n",
       "\n",
       "    .dataframe tbody tr th {\n",
       "        vertical-align: top;\n",
       "    }\n",
       "\n",
       "    .dataframe thead th {\n",
       "        text-align: right;\n",
       "    }\n",
       "</style>\n",
       "<table border=\"1\" class=\"dataframe\">\n",
       "  <thead>\n",
       "    <tr style=\"text-align: right;\">\n",
       "      <th></th>\n",
       "      <th>Negara</th>\n",
       "      <th>label1_kmeans</th>\n",
       "    </tr>\n",
       "  </thead>\n",
       "  <tbody>\n",
       "    <tr>\n",
       "      <th>96</th>\n",
       "      <td>Maldives</td>\n",
       "      <td>0.0</td>\n",
       "    </tr>\n",
       "    <tr>\n",
       "      <th>67</th>\n",
       "      <td>Hungary</td>\n",
       "      <td>1.0</td>\n",
       "    </tr>\n",
       "    <tr>\n",
       "      <th>41</th>\n",
       "      <td>Croatia</td>\n",
       "      <td>1.0</td>\n",
       "    </tr>\n",
       "    <tr>\n",
       "      <th>8</th>\n",
       "      <td>NaN</td>\n",
       "      <td>0.0</td>\n",
       "    </tr>\n",
       "    <tr>\n",
       "      <th>93</th>\n",
       "      <td>Madagascar</td>\n",
       "      <td>0.0</td>\n",
       "    </tr>\n",
       "  </tbody>\n",
       "</table>\n",
       "</div>"
      ],
      "text/plain": [
       "        Negara  label1_kmeans\n",
       "96    Maldives            0.0\n",
       "67     Hungary            1.0\n",
       "41     Croatia            1.0\n",
       "8          NaN            0.0\n",
       "93  Madagascar            0.0"
      ]
     },
     "execution_count": 481,
     "metadata": {},
     "output_type": "execute_result"
    }
   ],
   "source": [
    "#Merge Country and Cluster\n",
    "cluster_k = pd.concat([df5['Negara'],new_df['label1_kmeans']], axis=1, join='outer')\n",
    "cluster_k.sample(5)"
   ]
  },
  {
   "cell_type": "code",
   "execution_count": 544,
   "id": "df125e1d",
   "metadata": {},
   "outputs": [
    {
     "data": {
      "text/html": [
       "<div>\n",
       "<style scoped>\n",
       "    .dataframe tbody tr th:only-of-type {\n",
       "        vertical-align: middle;\n",
       "    }\n",
       "\n",
       "    .dataframe tbody tr th {\n",
       "        vertical-align: top;\n",
       "    }\n",
       "\n",
       "    .dataframe thead th {\n",
       "        text-align: right;\n",
       "    }\n",
       "</style>\n",
       "<table border=\"1\" class=\"dataframe\">\n",
       "  <thead>\n",
       "    <tr style=\"text-align: right;\">\n",
       "      <th></th>\n",
       "      <th>Negara</th>\n",
       "      <th>label1_kmeans</th>\n",
       "      <th>Kematian_anak</th>\n",
       "      <th>Ekspor</th>\n",
       "      <th>Kesehatan</th>\n",
       "      <th>Impor</th>\n",
       "      <th>Pendapatan</th>\n",
       "      <th>Inflasi</th>\n",
       "      <th>Harapan_hidup</th>\n",
       "      <th>Jumlah_fertiliti</th>\n",
       "      <th>GDPperkapita</th>\n",
       "    </tr>\n",
       "  </thead>\n",
       "  <tbody>\n",
       "    <tr>\n",
       "      <th>64</th>\n",
       "      <td>Malaysia</td>\n",
       "      <td>0.0</td>\n",
       "      <td>7.9</td>\n",
       "      <td>86.9</td>\n",
       "      <td>4.39</td>\n",
       "      <td>71.0</td>\n",
       "      <td>21100.0</td>\n",
       "      <td>7.27</td>\n",
       "      <td>74.5</td>\n",
       "      <td>2.15</td>\n",
       "      <td>9070.0</td>\n",
       "    </tr>\n",
       "    <tr>\n",
       "      <th>40</th>\n",
       "      <td>Ghana</td>\n",
       "      <td>1.0</td>\n",
       "      <td>74.7</td>\n",
       "      <td>29.5</td>\n",
       "      <td>5.22</td>\n",
       "      <td>45.9</td>\n",
       "      <td>3060.0</td>\n",
       "      <td>16.60</td>\n",
       "      <td>62.2</td>\n",
       "      <td>4.27</td>\n",
       "      <td>1310.0</td>\n",
       "    </tr>\n",
       "    <tr>\n",
       "      <th>8</th>\n",
       "      <td>Bangladesh</td>\n",
       "      <td>1.0</td>\n",
       "      <td>49.4</td>\n",
       "      <td>16.0</td>\n",
       "      <td>3.52</td>\n",
       "      <td>21.8</td>\n",
       "      <td>2440.0</td>\n",
       "      <td>7.14</td>\n",
       "      <td>70.4</td>\n",
       "      <td>2.33</td>\n",
       "      <td>758.0</td>\n",
       "    </tr>\n",
       "    <tr>\n",
       "      <th>60</th>\n",
       "      <td>Lithuania</td>\n",
       "      <td>0.0</td>\n",
       "      <td>6.1</td>\n",
       "      <td>65.3</td>\n",
       "      <td>7.04</td>\n",
       "      <td>67.2</td>\n",
       "      <td>21100.0</td>\n",
       "      <td>2.38</td>\n",
       "      <td>73.2</td>\n",
       "      <td>1.50</td>\n",
       "      <td>12000.0</td>\n",
       "    </tr>\n",
       "    <tr>\n",
       "      <th>78</th>\n",
       "      <td>Philippines</td>\n",
       "      <td>NaN</td>\n",
       "      <td>31.9</td>\n",
       "      <td>34.8</td>\n",
       "      <td>3.61</td>\n",
       "      <td>36.6</td>\n",
       "      <td>5600.0</td>\n",
       "      <td>4.22</td>\n",
       "      <td>69.0</td>\n",
       "      <td>3.16</td>\n",
       "      <td>2130.0</td>\n",
       "    </tr>\n",
       "  </tbody>\n",
       "</table>\n",
       "</div>"
      ],
      "text/plain": [
       "         Negara  label1_kmeans  Kematian_anak  Ekspor  Kesehatan  Impor  \\\n",
       "64     Malaysia            0.0            7.9    86.9       4.39   71.0   \n",
       "40        Ghana            1.0           74.7    29.5       5.22   45.9   \n",
       "8    Bangladesh            1.0           49.4    16.0       3.52   21.8   \n",
       "60    Lithuania            0.0            6.1    65.3       7.04   67.2   \n",
       "78  Philippines            NaN           31.9    34.8       3.61   36.6   \n",
       "\n",
       "    Pendapatan  Inflasi  Harapan_hidup  Jumlah_fertiliti  GDPperkapita  \n",
       "64     21100.0     7.27           74.5              2.15        9070.0  \n",
       "40      3060.0    16.60           62.2              4.27        1310.0  \n",
       "8       2440.0     7.14           70.4              2.33         758.0  \n",
       "60     21100.0     2.38           73.2              1.50       12000.0  \n",
       "78      5600.0     4.22           69.0              3.16        2130.0  "
      ]
     },
     "execution_count": 544,
     "metadata": {},
     "output_type": "execute_result"
    }
   ],
   "source": [
    "#Merge to Original Data\n",
    "clustered_data_k = cluster_k.merge(df5, on = 'Negara')\n",
    "clustered_data_k.sample(5)"
   ]
  },
  {
   "cell_type": "code",
   "execution_count": 545,
   "id": "c11662fb",
   "metadata": {},
   "outputs": [
    {
     "data": {
      "text/plain": [
       "array(['Afghanistan', 'Angola', 'Bhutan', 'Bolivia',\n",
       "       'Bosnia and Herzegovina', 'Burkina Faso', 'Cambodia', 'Chile',\n",
       "       'Colombia', 'Congo, Dem. Rep.', 'Congo, Rep.', \"Cote d'Ivoire\",\n",
       "       'Egypt', 'El Salvador', 'Eritrea', 'Gabon', 'Gambia', 'Georgia',\n",
       "       'Guatemala', 'Guinea', 'Indonesia', 'Iran', 'Iraq', 'Jordan',\n",
       "       'Lao', 'Lebanon', 'Lithuania', 'Macedonia, FYR', 'Madagascar',\n",
       "       'Malaysia', 'Maldives', 'Mauritius', 'Montenegro', 'Mozambique',\n",
       "       'Myanmar'], dtype=object)"
      ]
     },
     "execution_count": 545,
     "metadata": {},
     "output_type": "execute_result"
    }
   ],
   "source": [
    "clustered_data_k[clustered_data_k.label1_kmeans == 0].Negara.values"
   ]
  },
  {
   "cell_type": "code",
   "execution_count": 546,
   "id": "2c282d22",
   "metadata": {},
   "outputs": [
    {
     "data": {
      "text/plain": [
       "35"
      ]
     },
     "execution_count": 546,
     "metadata": {},
     "output_type": "execute_result"
    }
   ],
   "source": [
    "clustered_data_k[clustered_data_k.label1_kmeans == 0].Negara.count()"
   ]
  },
  {
   "cell_type": "code",
   "execution_count": 547,
   "id": "5909773b",
   "metadata": {},
   "outputs": [
    {
     "data": {
      "text/plain": [
       "array(['Albania', 'Algeria', 'Antigua and Barbuda', 'Argentina',\n",
       "       'Armenia', 'Azerbaijan', 'Bangladesh', 'Belarus', 'Belize',\n",
       "       'Benin', 'Botswana', 'Brazil', 'Bulgaria', 'Cameroon',\n",
       "       'Cape Verde', 'China', 'Comoros', 'Costa Rica', 'Croatia',\n",
       "       'Dominican Republic', 'Ecuador', 'Fiji', 'Ghana', 'Grenada',\n",
       "       'Guinea-Bissau', 'Guyana', 'Hungary', 'India', 'Jamaica',\n",
       "       'Kazakhstan', 'Kenya', 'Kiribati', 'Kyrgyz Republic', 'Latvia',\n",
       "       'Malawi', 'Mauritania', 'Morocco'], dtype=object)"
      ]
     },
     "execution_count": 547,
     "metadata": {},
     "output_type": "execute_result"
    }
   ],
   "source": [
    "clustered_data_k[clustered_data_k.label1_kmeans == 1].Negara.values"
   ]
  },
  {
   "cell_type": "code",
   "execution_count": 548,
   "id": "614edc3b",
   "metadata": {},
   "outputs": [
    {
     "data": {
      "text/plain": [
       "37"
      ]
     },
     "execution_count": 548,
     "metadata": {},
     "output_type": "execute_result"
    }
   ],
   "source": [
    "clustered_data_k[clustered_data_k.label1_kmeans == 1].Negara.count()"
   ]
  },
  {
   "cell_type": "code",
   "execution_count": 553,
   "id": "6af2a688",
   "metadata": {},
   "outputs": [
    {
     "data": {
      "image/png": "[encoded data removed]",
      "text/plain": [
       "<Figure size 864x576 with 1 Axes>"
      ]
     },
     "metadata": {
      "needs_background": "light"
     },
     "output_type": "display_data"
    }
   ],
   "source": [
    "fig = plt.figure(figsize=(12,8))\n",
    "ax = fig.add_subplot(111, projection='3d')\n",
    "\n",
    "ax.scatter(new_df['Jumlah_fertiliti'][new_df.label1_kmeans==0], new_df['Kematian_anak'][new_df.label1_kmeans==0], label=0, c='blue', s=100, edgecolors='green')\n",
    "ax.scatter(new_df['Jumlah_fertiliti'][new_df.label1_kmeans==1], new_df['Kematian_anak'][new_df.label1_kmeans==1], label=1, c='red', s=100, edgecolors='green')\n",
    "\n",
    "\n",
    "plt.title('Country Clustering')\n",
    "plt.xlabel('Jumlah_fertiliti')\n",
    "plt.ylabel('Kematian_anak')\n",
    "plt.legend()\n",
    "plt.show()"
   ]
  },
  {
   "cell_type": "markdown",
   "id": "8505b8f9",
   "metadata": {},
   "source": [
    "Berdasarkan hasil plotting kita bisa menarik kesimpulan, yaitu:\n",
    "- Untuk kluster 0 merupakan negara - negara yang memiliki jumlah fertiliti yang tinggi dan kematian anak yang tinggi pula. \n",
    "- Pada kluster 1 merupakan negara - negara yang memiliki jumlah fertiliti yang rendah dan kematian anak yang rendah pula.\n",
    "\n",
    "Maka dari itu, negara-negara yang paling membutuhkan bantuan dari organisasi HELP ini adalah negara yang berada pada cluster 0 yang merupakan negara-negara berkembang seperti yang sudah dijelaskan sebelumnya. Daftar negara-negaranya adalah\n",
    "\n",
    "\n",
    "'Afghanistan', 'Angola', 'Bhutan', 'Bolivia', 'Bosnia and Herzegovina', 'Burkina Faso', 'Cambodia', 'Chile', 'Colombia', 'Congo, Dem. Rep.', 'Congo, Rep.', \"Cote d'Ivoire\", 'Egypt', 'El Salvador', 'Eritrea', 'Gabon', 'Gambia', 'Georgia', 'Guatemala', 'Guinea', 'Indonesia', 'Iran', 'Iraq', 'Jordan', 'Lao', 'Lebanon', 'Lithuania', 'Macedonia, FYR', 'Madagascar', 'Malaysia', 'Maldives', 'Mauritius', 'Montenegro', 'Mozambique','Myanmar'."
   ]
  }
 ],
 "metadata": {
  "kernelspec": {
   "display_name": "Python 3",
   "language": "python",
   "name": "python3"
  },
  "language_info": {
   "codemirror_mode": {
    "name": "ipython",
    "version": 3
   },
   "file_extension": ".py",
   "mimetype": "text/x-python",
   "name": "python",
   "nbconvert_exporter": "python",
   "pygments_lexer": "ipython3",
   "version": "3.8.8"
  }
 },
 "nbformat": 4,
 "nbformat_minor": 5
}
